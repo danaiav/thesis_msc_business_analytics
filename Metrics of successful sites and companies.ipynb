{
 "cells": [
  {
   "cell_type": "code",
   "execution_count": 9,
   "metadata": {
    "collapsed": false
   },
   "outputs": [],
   "source": [
    "#First we import the libraries we will need\n",
    "import urllib\n",
    "import urllib2\n",
    "import time\n",
    "import os\n",
    "from bs4 import BeautifulSoup\n",
    "import re\n",
    "import numpy as np\n",
    "import pandas as pd\n",
    "import matplotlib.pyplot as plt"
   ]
  },
  {
   "cell_type": "code",
   "execution_count": 10,
   "metadata": {
    "collapsed": false
   },
   "outputs": [],
   "source": [
    "#First of all we need to find all the name of the sites that belong to fortune 500. This can happen if we seperate\n",
    "#The information needed from the below link\n",
    "url = \"http://www.zyxware.com/articles/4344/list-of-fortune-500-companies-and-their-websites\"\n",
    "list_company_number =[]\n",
    "list_company_name = []\n",
    "list_company_website = []\n",
    "list500_sites = []\n",
    "list500_names = []\n",
    "list500_num = []\n",
    "list500_url = []"
   ]
  },
  {
   "cell_type": "code",
   "execution_count": 11,
   "metadata": {
    "collapsed": false
   },
   "outputs": [],
   "source": [
    "#In order to extract the needed informations we will create 3 lists. The first one will contain the rank of each site, the\n",
    "#second one will contain the name of the company and the 3rd one will contain the actual link of the company's site.\n",
    "#For achieving this purpose we will create a funstion that will in its turn create those three list.\n",
    "#In order to know if the function worked we will ask it to return the first element of each list along with a sentence.\n",
    "def websites (url): \n",
    "    from time import time # I used it to see how much time it does to run the function\n",
    "    start = time ()\n",
    "    browser = urllib2.build_opener() \n",
    "    browser.addheaders = [('User-agent', 'Mozilla/5.0')]\n",
    "    response = browser.open(url)# this might throw an exception if something goes wrong.\n",
    "    myHTML = response.read()\n",
    "    soup = BeautifulSoup(myHTML,\"lxml\")    \n",
    "    o = 0\n",
    "    td_list =[]\n",
    "    for row2 in soup.html.body.findAll('td'):\n",
    "        td_list.insert(o, row2)\n",
    "        o = o + 1\n",
    "    a = 0\n",
    "    b = 1\n",
    "    c = 2\n",
    "    list_numbering = 0\n",
    "    for i in range (0,500):        \n",
    "        num = str(td_list[a])\n",
    "        company = str(td_list[b])\n",
    "        site = str(td_list[c])\n",
    "        c_num = re.findall('>(.+?)</td>',num)  \n",
    "        c_num = str(c_num[0])\n",
    "        c_name = re.findall('>(.+?)</td>',company)\n",
    "        c_name = str(c_name[0])\n",
    "        c_site = re.findall('\">(.+?)</a>',site)\n",
    "        c_site = str(c_site[0])        \n",
    "        list_company_number.insert(list_numbering,c_num)\n",
    "        list_company_name.insert(list_numbering,c_name)\n",
    "        list_company_website.insert(list_numbering,c_site)\n",
    "        a = a + 3\n",
    "        b = b + 3\n",
    "        c = c + 3\n",
    "        list_numbering =  list_numbering + 1 \n",
    "    end = time ()\n",
    "    duration = round (end - start, 1)\n",
    "    minutes = round (duration /60, 1)\n",
    "    print 'The lists are ready in ', duration, ' seconds'\n",
    "    print 'The lists are ready in ', minutes, ' minutes'"
   ]
  },
  {
   "cell_type": "code",
   "execution_count": 12,
   "metadata": {
    "collapsed": false,
    "slideshow": {
     "slide_type": "-"
    }
   },
   "outputs": [
    {
     "name": "stdout",
     "output_type": "stream",
     "text": [
      "The lists are ready in  1.2  seconds\n",
      "The lists are ready in  0.0  minutes\n"
     ]
    }
   ],
   "source": [
    "# After creating the function we should now test that it actually works correctly\n",
    "websites (url)"
   ]
  },
  {
   "cell_type": "code",
   "execution_count": 13,
   "metadata": {
    "collapsed": false
   },
   "outputs": [
    {
     "name": "stdout",
     "output_type": "stream",
     "text": [
      "The validation is complete! There were 0 not valid pages\n"
     ]
    }
   ],
   "source": [
    "#Try to validate each page url #pip install validators\n",
    "import validators\n",
    "nv = 0\n",
    "for num in range(len(list_company_website)):\n",
    "    line = 'http://' + str(list_company_website[num])\n",
    "    x = validators.url(line)    \n",
    "    if x != True:\n",
    "        nv = nv +1\n",
    "print \"The validation is complete! There were\" , nv, \"not valid pages\""
   ]
  },
  {
   "cell_type": "code",
   "execution_count": 14,
   "metadata": {
    "collapsed": false
   },
   "outputs": [
    {
     "name": "stdout",
     "output_type": "stream",
     "text": [
      "The site 14 has NOT been downloaded!\n",
      "The site 15 has NOT been downloaded!\n",
      "The site 37 has NOT been downloaded!\n",
      "The site 62 has NOT been downloaded!\n",
      "The site 90 has NOT been downloaded!\n",
      "The site 97 has NOT been downloaded!\n",
      "The site 127 has NOT been downloaded!\n",
      "The site 135 has NOT been downloaded!\n",
      "The site 141 has NOT been downloaded!\n",
      "The site 161 has NOT been downloaded!\n",
      "The site 164 has NOT been downloaded!\n",
      "The site 209 has NOT been downloaded!\n",
      "The site 216 has NOT been downloaded!\n",
      "The site 239 has NOT been downloaded!\n",
      "The site 242 has NOT been downloaded!\n",
      "The site 275 has NOT been downloaded!\n",
      "The site 306 has NOT been downloaded!\n",
      "The site 326 has NOT been downloaded!\n",
      "The site 363 has NOT been downloaded!\n",
      "The site 414 has NOT been downloaded!\n",
      "The site 424 has NOT been downloaded!\n",
      "The site 441 has NOT been downloaded!\n",
      "The site 481 has NOT been downloaded!\n"
     ]
    }
   ],
   "source": [
    "#def list_company_HTML (list_company_website,list_company_name,start,end):\n",
    "import time\n",
    "browser2 = urllib2.build_opener()\n",
    "browser2.addheaders = [('User-agent', 'Mozilla/5.0')]\n",
    "for i in range (0,500):\n",
    "    k = str(i + 1)\n",
    "    lc = str(list_company_website[i])\n",
    "    lc = lc.replace(\"'\",\"\")\n",
    "    lc = lc.replace(\"[\",\"\")\n",
    "    lc = lc.replace(\"]\",\"\")\n",
    "    lcn = str(list_company_name[i])\n",
    "    lcn = lcn.replace(\"'\",\"\")\n",
    "    lcn = lcn.replace(\"[\",\"\")\n",
    "    lcn = lcn.replace(\"]\",\"\")\n",
    "    url2= 'http://' + lc\n",
    "    #print (url2)\n",
    "    list500_names.insert(i,lcn)\n",
    "    list500_url.insert(i,lc)\n",
    "    list500_num.insert(i,k)\n",
    "    if i == 118 or i == 464:#The site 118(119) has a problem and the whole code is stacking \n",
    "        #when I run it so we will thing of this site as a not downloadable\n",
    "        list500_sites.insert(i,0)\n",
    "        #print (\"The site \" + k + \" has NOT been downloaded!\")\n",
    "    else:\n",
    "        #an exception might be thrown, so the code should be in a try-except block\n",
    "        try:\n",
    "            response2=browser2.open(url2)\n",
    "        except Exception: # this describes what to do if an exception is thrown\n",
    "            list500_sites.insert(i,0)\n",
    "            print (\"The site \" + str(i) + \" has NOT been downloaded!\") \n",
    "            continue     \n",
    "            #read the response in html format. This is essentially a long piece of text\n",
    "        myHTML2=response2.read()\n",
    "        list500_sites.insert(i,myHTML2)\n",
    "        #wait for 2 seconds\n",
    "        time.sleep(2)\n",
    "        #print (\"The site \" + k + \" has been downloaded!\")    \n",
    "    #print \"We saved: \",str(i + 1),\" sites!\"\n",
    "    #print (len(list500_names),list500_names)"
   ]
  },
  {
   "cell_type": "code",
   "execution_count": 15,
   "metadata": {
    "collapsed": false
   },
   "outputs": [],
   "source": [
    "#As we can see there is one site that hasn't been downloaded in order\n",
    "#to keep track of the sites that we could not download\n",
    "#we will create a new list that we will keep them all together there\n",
    "not_d = []\n",
    "not_d_n = []\n",
    "num = []\n",
    "def not_downloadables (list500_names,list500_sites):\n",
    "    met = 0       \n",
    "    for i in range(len(list500_names)):       \n",
    "        if list500_sites[i] == 0:\n",
    "            ct = list500_names[i]\n",
    "            not_d.insert(met,ct)\n",
    "            not_d_n.insert(met,str(i))\n",
    "            num.insert(met,met)\n",
    "            met = met + 1\n",
    "   "
   ]
  },
  {
   "cell_type": "code",
   "execution_count": 16,
   "metadata": {
    "collapsed": false
   },
   "outputs": [
    {
     "data": {
      "text/html": [
       "<div>\n",
       "<table border=\"1\" class=\"dataframe\">\n",
       "  <thead>\n",
       "    <tr style=\"text-align: right;\">\n",
       "      <th></th>\n",
       "      <th>company</th>\n",
       "      <th>number</th>\n",
       "    </tr>\n",
       "  </thead>\n",
       "  <tbody>\n",
       "    <tr>\n",
       "      <th>0</th>\n",
       "      <td>Costco</td>\n",
       "      <td>14</td>\n",
       "    </tr>\n",
       "    <tr>\n",
       "      <th>1</th>\n",
       "      <td>Fannie Mae</td>\n",
       "      <td>15</td>\n",
       "    </tr>\n",
       "    <tr>\n",
       "      <th>2</th>\n",
       "      <td>Target</td>\n",
       "      <td>37</td>\n",
       "    </tr>\n",
       "    <tr>\n",
       "      <th>3</th>\n",
       "      <td>HCA Holdings</td>\n",
       "      <td>62</td>\n",
       "    </tr>\n",
       "    <tr>\n",
       "      <th>4</th>\n",
       "      <td>Nike</td>\n",
       "      <td>90</td>\n",
       "    </tr>\n",
       "    <tr>\n",
       "      <th>5</th>\n",
       "      <td>Tesoro</td>\n",
       "      <td>97</td>\n",
       "    </tr>\n",
       "    <tr>\n",
       "      <th>6</th>\n",
       "      <td>Arrow Electronics</td>\n",
       "      <td>118</td>\n",
       "    </tr>\n",
       "    <tr>\n",
       "      <th>7</th>\n",
       "      <td>Emerson Electric</td>\n",
       "      <td>127</td>\n",
       "    </tr>\n",
       "    <tr>\n",
       "      <th>8</th>\n",
       "      <td>AutoNation</td>\n",
       "      <td>135</td>\n",
       "    </tr>\n",
       "    <tr>\n",
       "      <th>9</th>\n",
       "      <td>Southwest Airlines</td>\n",
       "      <td>141</td>\n",
       "    </tr>\n",
       "    <tr>\n",
       "      <th>10</th>\n",
       "      <td>Southern</td>\n",
       "      <td>161</td>\n",
       "    </tr>\n",
       "    <tr>\n",
       "      <th>11</th>\n",
       "      <td>American Electric Power</td>\n",
       "      <td>164</td>\n",
       "    </tr>\n",
       "    <tr>\n",
       "      <th>12</th>\n",
       "      <td>Loews</td>\n",
       "      <td>209</td>\n",
       "    </tr>\n",
       "    <tr>\n",
       "      <th>13</th>\n",
       "      <td>PBF Energy</td>\n",
       "      <td>216</td>\n",
       "    </tr>\n",
       "    <tr>\n",
       "      <th>14</th>\n",
       "      <td>Toys “R” Us</td>\n",
       "      <td>239</td>\n",
       "    </tr>\n",
       "    <tr>\n",
       "      <th>15</th>\n",
       "      <td>Dominion Resources</td>\n",
       "      <td>242</td>\n",
       "    </tr>\n",
       "    <tr>\n",
       "      <th>16</th>\n",
       "      <td>Global Partners</td>\n",
       "      <td>275</td>\n",
       "    </tr>\n",
       "    <tr>\n",
       "      <th>17</th>\n",
       "      <td>PayPal Holdings</td>\n",
       "      <td>306</td>\n",
       "    </tr>\n",
       "    <tr>\n",
       "      <th>18</th>\n",
       "      <td>News Corp.</td>\n",
       "      <td>326</td>\n",
       "    </tr>\n",
       "    <tr>\n",
       "      <th>19</th>\n",
       "      <td>Williams</td>\n",
       "      <td>363</td>\n",
       "    </tr>\n",
       "    <tr>\n",
       "      <th>20</th>\n",
       "      <td>Tractor Supply</td>\n",
       "      <td>414</td>\n",
       "    </tr>\n",
       "    <tr>\n",
       "      <th>21</th>\n",
       "      <td>Ameren</td>\n",
       "      <td>424</td>\n",
       "    </tr>\n",
       "    <tr>\n",
       "      <th>22</th>\n",
       "      <td>Old Republic International</td>\n",
       "      <td>441</td>\n",
       "    </tr>\n",
       "    <tr>\n",
       "      <th>23</th>\n",
       "      <td>St. Jude Medical</td>\n",
       "      <td>464</td>\n",
       "    </tr>\n",
       "    <tr>\n",
       "      <th>24</th>\n",
       "      <td>Raymond James Financial</td>\n",
       "      <td>481</td>\n",
       "    </tr>\n",
       "  </tbody>\n",
       "</table>\n",
       "</div>"
      ],
      "text/plain": [
       "                       company number\n",
       "0                       Costco     14\n",
       "1                   Fannie Mae     15\n",
       "2                       Target     37\n",
       "3                 HCA Holdings     62\n",
       "4                         Nike     90\n",
       "5                       Tesoro     97\n",
       "6            Arrow Electronics    118\n",
       "7             Emerson Electric    127\n",
       "8                   AutoNation    135\n",
       "9           Southwest Airlines    141\n",
       "10                    Southern    161\n",
       "11     American Electric Power    164\n",
       "12                       Loews    209\n",
       "13                  PBF Energy    216\n",
       "14                 Toys “R” Us    239\n",
       "15          Dominion Resources    242\n",
       "16             Global Partners    275\n",
       "17             PayPal Holdings    306\n",
       "18                  News Corp.    326\n",
       "19                    Williams    363\n",
       "20              Tractor Supply    414\n",
       "21                      Ameren    424\n",
       "22  Old Republic International    441\n",
       "23            St. Jude Medical    464\n",
       "24     Raymond James Financial    481"
      ]
     },
     "execution_count": 16,
     "metadata": {},
     "output_type": "execute_result"
    }
   ],
   "source": [
    "#Now we will run the function to see which sites havent been downloaded\n",
    "not_downloadables (list500_names,list500_sites)\n",
    "d = {'company' : pd.Series(not_d, index=[num]),\n",
    "     'number' : pd.Series(not_d_n, index=[num])}\n",
    "nd = pd.DataFrame(d)    \n",
    "nd"
   ]
  },
  {
   "cell_type": "code",
   "execution_count": 17,
   "metadata": {
    "collapsed": true
   },
   "outputs": [],
   "source": [
    "#Now we will perfom a reliability test for the text that is \n",
    "#included in the html code of the company's page\n",
    "from pattern import metrics\n",
    "readability = []\n",
    "rdb = []"
   ]
  },
  {
   "cell_type": "code",
   "execution_count": 18,
   "metadata": {
    "collapsed": true
   },
   "outputs": [],
   "source": [
    "def readable (list500_names,list500_sites):\n",
    "    for i in range (len(list500_names)):\n",
    "            myHTML = list500_sites[i]\n",
    "            if myHTML == 0:\n",
    "                readability.insert(i,\"n/a\")\n",
    "                rdb.insert(i,\"n/a\")\n",
    "            else:\n",
    "                a = metrics.flesch_reading_ease(myHTML) * 100\n",
    "                a = round (a, 1)\n",
    "                if a > 90:    \n",
    "                    readability.insert(i,\"Very easy\")\n",
    "                    rdb.insert(i,6)\n",
    "                elif a > 80:\n",
    "                    readability.insert(i,\"Easy\")\n",
    "                    rdb.insert(i,5)\n",
    "                elif a > 70:\n",
    "                    readability.insert(i,\"Fairly easy\")\n",
    "                    rdb.insert(i,4)\n",
    "                elif a > 60:\n",
    "                    readability.insert(i,\"Standard\")\n",
    "                    rdb.insert(i,3)\n",
    "                elif a > 50:\n",
    "                    readability.insert(i,\"Fairly difficult\")\n",
    "                    rdb.insert(i,2)\n",
    "                elif a > 30:\n",
    "                    readability.insert(i,\"Difficult\")\n",
    "                    rdb.insert(i,1)\n",
    "                else:\n",
    "                    readability.insert(i,\"Very Confusing\")\n",
    "                    rdb.insert(i,0)                    \n",
    "    print \"The function is completed!\""
   ]
  },
  {
   "cell_type": "code",
   "execution_count": 19,
   "metadata": {
    "collapsed": false
   },
   "outputs": [
    {
     "name": "stdout",
     "output_type": "stream",
     "text": [
      "The function is completed!\n"
     ]
    }
   ],
   "source": [
    "readable (list500_names,list500_sites)"
   ]
  },
  {
   "cell_type": "code",
   "execution_count": 21,
   "metadata": {
    "collapsed": false
   },
   "outputs": [
    {
     "data": {
      "text/html": [
       "<div>\n",
       "<table border=\"1\" class=\"dataframe\">\n",
       "  <thead>\n",
       "    <tr style=\"text-align: right;\">\n",
       "      <th></th>\n",
       "      <th>Readability</th>\n",
       "      <th>Readability_index</th>\n",
       "      <th>company</th>\n",
       "      <th>url</th>\n",
       "    </tr>\n",
       "  </thead>\n",
       "  <tbody>\n",
       "    <tr>\n",
       "      <th>498</th>\n",
       "      <td>Very Confusing</td>\n",
       "      <td>0</td>\n",
       "      <td>NVR</td>\n",
       "      <td>www.nvrinc.com</td>\n",
       "    </tr>\n",
       "    <tr>\n",
       "      <th>499</th>\n",
       "      <td>Very Confusing</td>\n",
       "      <td>0</td>\n",
       "      <td>Cincinnati Financial</td>\n",
       "      <td>www.cinfin.com</td>\n",
       "    </tr>\n",
       "    <tr>\n",
       "      <th>500</th>\n",
       "      <td>Very Confusing</td>\n",
       "      <td>0</td>\n",
       "      <td>Burlington Stores</td>\n",
       "      <td>www.burlingtonstores.com</td>\n",
       "    </tr>\n",
       "  </tbody>\n",
       "</table>\n",
       "</div>"
      ],
      "text/plain": [
       "        Readability Readability_index               company  \\\n",
       "498  Very Confusing                 0                   NVR   \n",
       "499  Very Confusing                 0  Cincinnati Financial   \n",
       "500  Very Confusing                 0     Burlington Stores   \n",
       "\n",
       "                          url  \n",
       "498            www.nvrinc.com  \n",
       "499            www.cinfin.com  \n",
       "500  www.burlingtonstores.com  "
      ]
     },
     "execution_count": 21,
     "metadata": {},
     "output_type": "execute_result"
    }
   ],
   "source": [
    "d1 = {'company' : pd.Series(list500_names, index=[list500_num]),\n",
    "      'url' : pd.Series(list500_url, index=[list500_num]),\n",
    "      'Readability' : pd.Series(readability, index=[list500_num]),\n",
    "      'Readability_index' : pd.Series(rdb, index=[list500_num])}\n",
    "fre = pd.DataFrame(d1)    \n",
    "fre.tail(3) #we see the first 3 in the data frame"
   ]
  },
  {
   "cell_type": "code",
   "execution_count": 53,
   "metadata": {
    "collapsed": false
   },
   "outputs": [],
   "source": [
    "#Retreiving the social media from each site\n",
    "#First create empty lists for the ones that \n",
    "#we will need to calculate\n",
    "sm_f = []\n",
    "sm_t = []\n",
    "sm_i = []\n",
    "sm_p = []\n",
    "sm_y = []\n",
    "sm_l = []   \n",
    "sm_nm = [] \n",
    "nm = []\n",
    "sm_url = []"
   ]
  },
  {
   "cell_type": "code",
   "execution_count": 54,
   "metadata": {
    "collapsed": false
   },
   "outputs": [],
   "source": [
    "#Then create a function that will feel in those \n",
    "#lists so as to make the data frame later on\n",
    "def socialmedia (list500_sites,list500_names,list500_url):\n",
    "    from time import time \n",
    "    # I used it to see how much time it does to run the function\n",
    "    start = time ()\n",
    "    for i in range(len(list500_names)):        \n",
    "            myHTML = list500_sites[i]\n",
    "            sm = ['facebook.com','twitter.com',\n",
    "                  'instagram.com','pinterest.com',\n",
    "                  'youtube.com','linkedin.com'] \n",
    "            if myHTML == 0:\n",
    "                #print(str(i),\"no\")\n",
    "                sm_nm.insert(i,list500_names[i]) \n",
    "                nm.insert(i,i)\n",
    "                sm_url.insert(i,list500_url[i])\n",
    "                sm_f.insert(i,'n/a')\n",
    "                sm_t.insert(i,'n/a')\n",
    "                sm_i.insert(i,'n/a')\n",
    "                sm_p.insert(i,'n/a')\n",
    "                sm_y.insert(i,'n/a')\n",
    "                sm_l.insert(i,'n/a')\n",
    "            else:\n",
    "                for index in range(len(sm)):\n",
    "                    x = sm[index]\n",
    "                    social = re.findall(x,myHTML)                                \n",
    "                    if (len(social) > 0):\n",
    "                        if x == 'facebook.com':\n",
    "                            answerf = 'TRUE'\n",
    "                        if x == 'twitter.com':\n",
    "                            answert = 'TRUE'\n",
    "                        if x == 'instagram.com':\n",
    "                            answeri = 'TRUE'\n",
    "                        if x == 'pinterest.com':\n",
    "                            answerp = 'TRUE'\n",
    "                        if x == 'youtube.com':\n",
    "                            answery = 'TRUE'\n",
    "                        if x =='linkedin.com':\n",
    "                            answerl = 'TRUE'                   \n",
    "                    else:\n",
    "                         if x == 'facebook.com':\n",
    "                            answerf = 'FALSE'\n",
    "                         if x == 'twitter.com':\n",
    "                            answert = 'FALSE'\n",
    "                         if x == 'instagram.com':\n",
    "                            answeri = 'FALSE'\n",
    "                         if x == 'pinterest.com':\n",
    "                            answerp = 'FALSE'\n",
    "                         if x == 'youtube.com':\n",
    "                            answery = 'FALSE'\n",
    "                         if x =='linkedin.com':\n",
    "                            answerl = 'FALSE'                \n",
    "                sm_nm.insert(i,list500_names[i]) \n",
    "                nm.insert(i,i)\n",
    "                sm_url.insert(i,list500_url[i])\n",
    "                sm_f.insert(i,answerf)\n",
    "                sm_t.insert(i,answert)\n",
    "                sm_i.insert(i,answeri)\n",
    "                sm_p.insert(i,answerp)\n",
    "                sm_y.insert(i,answery)\n",
    "                sm_l.insert(i,answerl)\n",
    "    end = time ()\n",
    "    duration = round (end - start, 3)\n",
    "    minutes = round (duration /60, 1)\n",
    "    print 'The lists are completed in ', minutes, ' minutes' \n",
    "    print 'The lists are ready in ', duration, ' seconds'"
   ]
  },
  {
   "cell_type": "code",
   "execution_count": 55,
   "metadata": {
    "collapsed": false
   },
   "outputs": [
    {
     "name": "stdout",
     "output_type": "stream",
     "text": [
      "The lists are completed in  0.0  minutes\n",
      "The lists are ready in  0.259  seconds\n"
     ]
    }
   ],
   "source": [
    "#Now we will run the function for the 25 first sites for starters\n",
    "socialmedia (list500_sites,list500_names,list500_url)"
   ]
  },
  {
   "cell_type": "code",
   "execution_count": 58,
   "metadata": {
    "collapsed": false
   },
   "outputs": [
    {
     "data": {
      "text/html": [
       "<div>\n",
       "<table border=\"1\" class=\"dataframe\">\n",
       "  <thead>\n",
       "    <tr style=\"text-align: right;\">\n",
       "      <th></th>\n",
       "      <th>company</th>\n",
       "      <th>facebook</th>\n",
       "      <th>instagram</th>\n",
       "      <th>linkedin</th>\n",
       "      <th>pinterest</th>\n",
       "      <th>twitter</th>\n",
       "      <th>youtube</th>\n",
       "    </tr>\n",
       "  </thead>\n",
       "  <tbody>\n",
       "    <tr>\n",
       "      <th>497</th>\n",
       "      <td>NVR</td>\n",
       "      <td>TRUE</td>\n",
       "      <td>TRUE</td>\n",
       "      <td>FALSE</td>\n",
       "      <td>TRUE</td>\n",
       "      <td>TRUE</td>\n",
       "      <td>TRUE</td>\n",
       "    </tr>\n",
       "    <tr>\n",
       "      <th>498</th>\n",
       "      <td>Cincinnati Financial</td>\n",
       "      <td>TRUE</td>\n",
       "      <td>FALSE</td>\n",
       "      <td>FALSE</td>\n",
       "      <td>FALSE</td>\n",
       "      <td>FALSE</td>\n",
       "      <td>FALSE</td>\n",
       "    </tr>\n",
       "    <tr>\n",
       "      <th>499</th>\n",
       "      <td>Burlington Stores</td>\n",
       "      <td>TRUE</td>\n",
       "      <td>TRUE</td>\n",
       "      <td>FALSE</td>\n",
       "      <td>TRUE</td>\n",
       "      <td>TRUE</td>\n",
       "      <td>TRUE</td>\n",
       "    </tr>\n",
       "  </tbody>\n",
       "</table>\n",
       "</div>"
      ],
      "text/plain": [
       "                  company facebook instagram linkedin pinterest twitter  \\\n",
       "497                   NVR     TRUE      TRUE    FALSE      TRUE    TRUE   \n",
       "498  Cincinnati Financial     TRUE     FALSE    FALSE     FALSE   FALSE   \n",
       "499     Burlington Stores     TRUE      TRUE    FALSE      TRUE    TRUE   \n",
       "\n",
       "    youtube  \n",
       "497    TRUE  \n",
       "498   FALSE  \n",
       "499    TRUE  "
      ]
     },
     "execution_count": 58,
     "metadata": {},
     "output_type": "execute_result"
    }
   ],
   "source": [
    "#Finally we create the data frame with the elements we found            \n",
    "d2 = {'company' : pd.Series(sm_nm, index=[nm]),\n",
    "     'facebook' : pd.Series(sm_f, index=[nm]),\n",
    "      'twitter' : pd.Series(sm_t, index=[nm]),\n",
    "     'instagram' : pd.Series(sm_i, index=[nm]),\n",
    "      'pinterest' : pd.Series(sm_p, index=[nm]),\n",
    "     'youtube' : pd.Series(sm_y, index=[nm]),\n",
    "      'linkedin' : pd.Series(sm_l, index=[nm]),}\n",
    "social_media = pd.DataFrame(d2)    \n",
    "social_media.tail(3) #we see the first 3 in the data frame"
   ]
  },
  {
   "cell_type": "code",
   "execution_count": 59,
   "metadata": {
    "collapsed": true
   },
   "outputs": [],
   "source": [
    "#Create the lists we will need for the data frame\n",
    "l_nm = []\n",
    "l_ex = []\n",
    "l_in = []\n",
    "l_t = []\n",
    "nm = []\n",
    "l_url = []"
   ]
  },
  {
   "cell_type": "code",
   "execution_count": 60,
   "metadata": {
    "collapsed": true
   },
   "outputs": [],
   "source": [
    "#create the function that will calculate the different type of links\n",
    "def links (list500_sites,list500_names,list500_url):\n",
    "    from time import time \n",
    "    # I used it to see how much time it does to run the function\n",
    "    start = time ()\n",
    "    for num in range(len(list500_names)):        \n",
    "            myHTML = list500_sites[num]\n",
    "            if myHTML == 0:\n",
    "                l_nm.insert(num,list500_names[num])            \n",
    "                l_ex.insert(num,'n/a')\n",
    "                l_t.insert(num,'n/a')\n",
    "                l_in.insert(num,'n/a')\n",
    "                nm.insert(num,num)                \n",
    "            else: \n",
    "                href = re.findall('href',myHTML)\n",
    "                external = re.findall('href=\"https:',myHTML)\n",
    "                ex = (len(external))\n",
    "                alllinks = (len(href))\n",
    "                internal =  (len(href) - len(external))\n",
    "                l_nm.insert(num,list500_names[num])            \n",
    "                l_ex.insert(num,ex)\n",
    "                l_t.insert(num,alllinks)\n",
    "                l_in.insert(num,internal)\n",
    "                nm.insert(num,num)                \n",
    "    end = time ()\n",
    "    duration = round (end - start, 3)\n",
    "    minutes = round (duration /60, 1)\n",
    "    print 'The lists are ready in ', minutes, ' minutes'\n",
    "    print 'The lists are ready in ', duration, ' seconds'"
   ]
  },
  {
   "cell_type": "code",
   "execution_count": 61,
   "metadata": {
    "collapsed": false
   },
   "outputs": [
    {
     "name": "stdout",
     "output_type": "stream",
     "text": [
      "The lists are ready in  0.0  minutes\n",
      "The lists are ready in  0.088  seconds\n"
     ]
    }
   ],
   "source": [
    "#Run the function in order to find the external, \n",
    "#internal and total links of each site\n",
    "#For now we are running for the first 25 sites only\n",
    "links (list500_sites,list500_names,list500_url)"
   ]
  },
  {
   "cell_type": "code",
   "execution_count": 63,
   "metadata": {
    "collapsed": false
   },
   "outputs": [
    {
     "data": {
      "text/html": [
       "<div>\n",
       "<table border=\"1\" class=\"dataframe\">\n",
       "  <thead>\n",
       "    <tr style=\"text-align: right;\">\n",
       "      <th></th>\n",
       "      <th>company</th>\n",
       "      <th>external</th>\n",
       "      <th>internal</th>\n",
       "      <th>total links</th>\n",
       "    </tr>\n",
       "  </thead>\n",
       "  <tbody>\n",
       "    <tr>\n",
       "      <th>497</th>\n",
       "      <td>NVR</td>\n",
       "      <td>5</td>\n",
       "      <td>29</td>\n",
       "      <td>34</td>\n",
       "    </tr>\n",
       "    <tr>\n",
       "      <th>498</th>\n",
       "      <td>Cincinnati Financial</td>\n",
       "      <td>3</td>\n",
       "      <td>73</td>\n",
       "      <td>76</td>\n",
       "    </tr>\n",
       "    <tr>\n",
       "      <th>499</th>\n",
       "      <td>Burlington Stores</td>\n",
       "      <td>16</td>\n",
       "      <td>168</td>\n",
       "      <td>184</td>\n",
       "    </tr>\n",
       "  </tbody>\n",
       "</table>\n",
       "</div>"
      ],
      "text/plain": [
       "                  company external internal total links\n",
       "497                   NVR        5       29          34\n",
       "498  Cincinnati Financial        3       73          76\n",
       "499     Burlington Stores       16      168         184"
      ]
     },
     "execution_count": 63,
     "metadata": {},
     "output_type": "execute_result"
    }
   ],
   "source": [
    "#Create a dataframe so as to be able to see \n",
    "#the results of the function we run\n",
    "d3 = {'company' : pd.Series(l_nm, index=[nm]),\n",
    "      'external' : pd.Series(l_ex, index=[nm]),\n",
    "      'internal' : pd.Series(l_in, index=[nm]),\n",
    "     'total links' : pd.Series(l_t, index=[nm])}\n",
    "sites_links = pd.DataFrame(d3)    \n",
    "sites_links.tail(3) #we see the first 3 in the data frame"
   ]
  },
  {
   "cell_type": "code",
   "execution_count": 70,
   "metadata": {
    "collapsed": true
   },
   "outputs": [],
   "source": [
    "#The initial lists we will need in order \n",
    "#to calculate the loading time\n",
    "lt_nm = [] \n",
    "lt_time = []\n",
    "nm = []\n",
    "lt_url = []"
   ]
  },
  {
   "cell_type": "code",
   "execution_count": 71,
   "metadata": {
    "collapsed": true
   },
   "outputs": [],
   "source": [
    "#the function that will calculate the loading time\n",
    "def loadtime (list_company_website,list500_names,list500_url):\n",
    "    from time import time\n",
    "    browser2 = urllib2.build_opener()\n",
    "    browser2.addheaders = [('User-agent', 'Mozilla/5.0')]\n",
    "    for num in range(len(list500_names)):\n",
    "        lc = str(list_company_website[num])        \n",
    "        lc = lc.replace(\"'\",\"\")   \n",
    "        lc = lc.replace(\"[\",\"\")\n",
    "        lc = lc.replace(\"]\",\"\")\n",
    "        url2 = 'http://' + lc\n",
    "        if num == 118 or num == 464:\n",
    "            #The site 118(119) has a problem and the whole code \n",
    "            #is stacking when I run it so we will thing of this \n",
    "            #site as a not downloadable\n",
    "            lt_nm.insert(num,list500_names[num])            \n",
    "            lt_time.insert(num,'n/a')\n",
    "            nm.insert(num,num)\n",
    "            lt_url.insert(num,list500_url[num])\n",
    "            #print (\"The site \" + str(num) + \" has NOT been loaded!\")\n",
    "        else:\n",
    "            try:\n",
    "                response2 = browser2.open(url2)\n",
    "            except Exception:\n",
    "                lt_time.insert(num,'n/a')\n",
    "                lt_nm.insert(num,list500_names[num])  \n",
    "                nm.insert(num,num)\n",
    "                print (\"The site \" + str(num)+ \" has NOT been loaded!\")\n",
    "                continue     \n",
    "            start_time = time()\n",
    "            myHTML2 = response2.read()\n",
    "            end_time = time()\n",
    "            response2.close()\n",
    "            l_t = round(end_time-start_time, 3) \n",
    "            #in order to be more readable we rounded the time\n",
    "            loadt = str(l_t)\n",
    "            lt_nm.insert(num,list500_names[num])            \n",
    "            lt_time.insert(num,loadt)\n",
    "            nm.insert(num,num)\n",
    "            lt_url.insert(num,list500_url[num])\n",
    "            #print (\"The site \" + str(num) + \" has been loaded!\")\n",
    "    print \"The function is completed!\""
   ]
  },
  {
   "cell_type": "code",
   "execution_count": 72,
   "metadata": {
    "collapsed": false
   },
   "outputs": [
    {
     "name": "stdout",
     "output_type": "stream",
     "text": [
      "The site 14 has NOT been loaded!\n",
      "The site 15 has NOT been loaded!\n",
      "The site 37 has NOT been loaded!\n",
      "The site 62 has NOT been loaded!\n",
      "The site 90 has NOT been loaded!\n",
      "The site 97 has NOT been loaded!\n",
      "The site 127 has NOT been loaded!\n",
      "The site 135 has NOT been loaded!\n",
      "The site 141 has NOT been loaded!\n",
      "The site 161 has NOT been loaded!\n",
      "The site 164 has NOT been loaded!\n",
      "The site 204 has NOT been loaded!\n",
      "The site 209 has NOT been loaded!\n",
      "The site 216 has NOT been loaded!\n",
      "The site 242 has NOT been loaded!\n",
      "The site 275 has NOT been loaded!\n",
      "The site 306 has NOT been loaded!\n",
      "The site 326 has NOT been loaded!\n",
      "The site 363 has NOT been loaded!\n",
      "The site 414 has NOT been loaded!\n",
      "The site 424 has NOT been loaded!\n",
      "The site 441 has NOT been loaded!\n",
      "The site 481 has NOT been loaded!\n",
      "The function is completed!\n"
     ]
    }
   ],
   "source": [
    "#running the function for the first 25 sites\n",
    "loadtime (list_company_website,list500_names,list500_url)"
   ]
  },
  {
   "cell_type": "code",
   "execution_count": 73,
   "metadata": {
    "collapsed": false
   },
   "outputs": [
    {
     "data": {
      "text/html": [
       "<div>\n",
       "<table border=\"1\" class=\"dataframe\">\n",
       "  <thead>\n",
       "    <tr style=\"text-align: right;\">\n",
       "      <th></th>\n",
       "      <th>company</th>\n",
       "      <th>loading time</th>\n",
       "    </tr>\n",
       "  </thead>\n",
       "  <tbody>\n",
       "    <tr>\n",
       "      <th>0</th>\n",
       "      <td>Walmart</td>\n",
       "      <td>0.449</td>\n",
       "    </tr>\n",
       "    <tr>\n",
       "      <th>1</th>\n",
       "      <td>Exxon Mobil</td>\n",
       "      <td>5.376</td>\n",
       "    </tr>\n",
       "    <tr>\n",
       "      <th>2</th>\n",
       "      <td>Apple</td>\n",
       "      <td>0.021</td>\n",
       "    </tr>\n",
       "  </tbody>\n",
       "</table>\n",
       "</div>"
      ],
      "text/plain": [
       "       company loading time\n",
       "0      Walmart        0.449\n",
       "1  Exxon Mobil        5.376\n",
       "2        Apple        0.021"
      ]
     },
     "execution_count": 73,
     "metadata": {},
     "output_type": "execute_result"
    }
   ],
   "source": [
    "#creating the data frame with the loading times\n",
    "d4 = {'company' : pd.Series(lt_nm, index=[nm]),\n",
    "      'loading time' : pd.Series(lt_time, index=[nm])}\n",
    "loading_time = pd.DataFrame(d4)    \n",
    "loading_time.head(3) #we see the first 3 in the data frame"
   ]
  },
  {
   "cell_type": "code",
   "execution_count": 74,
   "metadata": {
    "collapsed": true
   },
   "outputs": [],
   "source": [
    "#Find out how many and what type of images each site has\n",
    "#first we create the initially empty lists\n",
    "p_p = []\n",
    "p_d = []\n",
    "p_jpg = []\n",
    "p_jpeg = []\n",
    "p_gif = []\n",
    "p_tif = []\n",
    "p_tiff = []\n",
    "p_bmp = []\n",
    "p_jpe = []\n",
    "p_nm = []\n",
    "p_tt =[]\n",
    "nm = []\n",
    "p_url = []"
   ]
  },
  {
   "cell_type": "code",
   "execution_count": 75,
   "metadata": {
    "collapsed": true
   },
   "outputs": [],
   "source": [
    "#Then we create the function that will explore \n",
    "#the html pages and search for the images\n",
    "def images (list500_sites,list500_names,list500_url):\n",
    "    from time import time # I used it to see \n",
    "    #how much time it does to run the function\n",
    "    start = time ()\n",
    "    for num in range(len(list500_names)):\n",
    "            myHTML = list500_sites[num] \n",
    "            image = ['.png','.dib','.jpg','.jpeg',\n",
    "                     '.bmp','.jpe','.gif','.tif','.tiff'] \n",
    "            totalnumber = 0 \n",
    "            if myHTML == 0:\n",
    "                p_nm.insert(num,list500_names[num])            \n",
    "                p_p.insert(num,'n/a')  \n",
    "                p_d.insert(num,'n/a')  \n",
    "                p_jpg.insert(num,'n/a')  \n",
    "                p_jpeg.insert(num,'n/a')  \n",
    "                p_gif.insert(num,'n/a')  \n",
    "                p_tif.insert(num,'n/a')  \n",
    "                p_tiff.insert(num,'n/a')  \n",
    "                p_bmp.insert(num,'n/a')  \n",
    "                p_jpe.insert(num,'n/a')  \n",
    "                p_tt.insert(num,'n/a')\n",
    "                nm.insert(num,num)\n",
    "                p_url.insert(num,list500_url[num])          \n",
    "            else: \n",
    "                for index in range(len(image)):\n",
    "                    x = image[index]\n",
    "                    photo = re.findall(x,myHTML)\n",
    "                    if x == '.png':\n",
    "                        p = str (len(photo))\n",
    "                    if x == '.dib':\n",
    "                        d = str (len(photo))\n",
    "                    if x == '.jpg':\n",
    "                        jpg = str (len(photo))\n",
    "                    if x == '.jpeg':\n",
    "                        jpeg = str (len(photo))\n",
    "                    if x == '.gif':\n",
    "                        gif = str (len(photo))\n",
    "                    if x == '.tif':\n",
    "                        tif = str (len(photo))\n",
    "                    if x == '.tiff':\n",
    "                        tiff = str (len(photo))\n",
    "                    if x == '.bmp':\n",
    "                        bmp = str (len(photo))\n",
    "                    if x == '.jpe':\n",
    "                        jpe = str (len(photo))\n",
    "                    totalnumber = len(photo) + totalnumber\n",
    "                total = str (totalnumber)\n",
    "                p_nm.insert(num,list500_names[num])            \n",
    "                p_p.insert(num,p)  \n",
    "                p_d.insert(num,d)  \n",
    "                p_jpg.insert(num,jpg)  \n",
    "                p_jpeg.insert(num,jpeg)  \n",
    "                p_gif.insert(num,gif)  \n",
    "                p_tif.insert(num,tif)  \n",
    "                p_tiff.insert(num,tiff)  \n",
    "                p_bmp.insert(num,bmp)  \n",
    "                p_jpe.insert(num,jpe)  \n",
    "                p_tt.insert(num,total)\n",
    "                nm.insert(num,num)\n",
    "                p_url.insert(num,list500_url[num])\n",
    "    end = time ()\n",
    "    duration = round (end - start, 3)\n",
    "    minutes = round (duration /60, 1)\n",
    "    print 'The lists are ready in ', minutes, ' minutes'\n",
    "    print 'The lists are ready in ', duration, ' seconds'"
   ]
  },
  {
   "cell_type": "code",
   "execution_count": 76,
   "metadata": {
    "collapsed": false
   },
   "outputs": [
    {
     "name": "stdout",
     "output_type": "stream",
     "text": [
      "The lists are ready in  0.1  minutes\n",
      "The lists are ready in  3.341  seconds\n"
     ]
    }
   ],
   "source": [
    "#Then we run the function for the first 20 sites for now\n",
    "images (list500_sites,list500_names,list500_url)"
   ]
  },
  {
   "cell_type": "code",
   "execution_count": 77,
   "metadata": {
    "collapsed": false
   },
   "outputs": [
    {
     "data": {
      "text/html": [
       "<div>\n",
       "<table border=\"1\" class=\"dataframe\">\n",
       "  <thead>\n",
       "    <tr style=\"text-align: right;\">\n",
       "      <th></th>\n",
       "      <th>.bmp</th>\n",
       "      <th>.dib</th>\n",
       "      <th>.gif</th>\n",
       "      <th>.jpe</th>\n",
       "      <th>.jpeg</th>\n",
       "      <th>.jpg</th>\n",
       "      <th>.png</th>\n",
       "      <th>.tif</th>\n",
       "      <th>.tiff</th>\n",
       "      <th>company</th>\n",
       "      <th>total images</th>\n",
       "    </tr>\n",
       "  </thead>\n",
       "  <tbody>\n",
       "    <tr>\n",
       "      <th>0</th>\n",
       "      <td>0</td>\n",
       "      <td>0</td>\n",
       "      <td>55</td>\n",
       "      <td>153</td>\n",
       "      <td>153</td>\n",
       "      <td>63</td>\n",
       "      <td>46</td>\n",
       "      <td>10</td>\n",
       "      <td>0</td>\n",
       "      <td>Walmart</td>\n",
       "      <td>480</td>\n",
       "    </tr>\n",
       "    <tr>\n",
       "      <th>1</th>\n",
       "      <td>0</td>\n",
       "      <td>0</td>\n",
       "      <td>1</td>\n",
       "      <td>0</td>\n",
       "      <td>0</td>\n",
       "      <td>16</td>\n",
       "      <td>2</td>\n",
       "      <td>4</td>\n",
       "      <td>0</td>\n",
       "      <td>Exxon Mobil</td>\n",
       "      <td>23</td>\n",
       "    </tr>\n",
       "    <tr>\n",
       "      <th>2</th>\n",
       "      <td>0</td>\n",
       "      <td>0</td>\n",
       "      <td>9</td>\n",
       "      <td>0</td>\n",
       "      <td>0</td>\n",
       "      <td>0</td>\n",
       "      <td>2</td>\n",
       "      <td>0</td>\n",
       "      <td>0</td>\n",
       "      <td>Apple</td>\n",
       "      <td>11</td>\n",
       "    </tr>\n",
       "  </tbody>\n",
       "</table>\n",
       "</div>"
      ],
      "text/plain": [
       "  .bmp .dib .gif .jpe .jpeg .jpg .png .tif .tiff      company total images\n",
       "0    0    0   55  153   153   63   46   10     0      Walmart          480\n",
       "1    0    0    1    0     0   16    2    4     0  Exxon Mobil           23\n",
       "2    0    0    9    0     0    0    2    0     0        Apple           11"
      ]
     },
     "execution_count": 77,
     "metadata": {},
     "output_type": "execute_result"
    }
   ],
   "source": [
    "#Finally we create a dataframe in order to see the results of the function\n",
    "d5 = {'company' : pd.Series(p_nm, index=[nm]),\n",
    "      '.png' : pd.Series(p_p, index=[nm]),\n",
    "      '.dib' : pd.Series(p_d, index=[nm]),\n",
    "      '.jpg' : pd.Series(p_jpg, index=[nm]),\n",
    "      '.jpeg' : pd.Series(p_jpeg, index=[nm]),\n",
    "      '.bmp' : pd.Series(p_bmp, index=[nm]),\n",
    "      '.jpe' : pd.Series(p_jpe, index=[nm]),\n",
    "      '.gif' : pd.Series(p_gif, index=[nm]),\n",
    "      '.tif' : pd.Series(p_tif, index=[nm]),\n",
    "      '.tiff' : pd.Series(p_tiff, index=[nm]), \n",
    "      'total images' : pd.Series(p_tt, index=[nm])}\n",
    "images_types = pd.DataFrame(d5)    \n",
    "images_types.head(3) #we see the first 3 in the data frame"
   ]
  },
  {
   "cell_type": "code",
   "execution_count": 78,
   "metadata": {
    "collapsed": true
   },
   "outputs": [],
   "source": [
    "#Now we will find the different dimensions that each site uses\n",
    "#initially we create the empty lists we will need\n",
    "nm = []\n",
    "s_comp = []\n",
    "s_dimensions = []\n",
    "s_times = []\n",
    "s_tt_dif_dim = []\n",
    "ht = [] #list of different heights in each case\n",
    "wt = [] #list of different widths in each case\n",
    "h_w = [] # combinations of height and width\n",
    "dif_size = []  \n",
    "un_size = [] \n",
    "s_url = []"
   ]
  },
  {
   "cell_type": "code",
   "execution_count": 79,
   "metadata": {
    "collapsed": false
   },
   "outputs": [],
   "source": [
    "#With the below function we will gather \n",
    "#in a variable all the different dimensions \n",
    "#and in another one all the times that each \n",
    "#dimension occures for each html code\n",
    "def find_dif_sizes (list_company_website,list500_names,list500_url):\n",
    "    from time import time # I used it to see how much time it does to run the function\n",
    "    start = time ()\n",
    "    for num in range(len(list500_names)):\n",
    "            nm.insert(num,num)                  \n",
    "            s_comp.insert(num,list500_names[num])\n",
    "            s_url.insert(num,list500_url[num])\n",
    "            myHTML = list500_sites[num] \n",
    "            if myHTML == 0:\n",
    "                s_dimensions.insert(num,0)\n",
    "                s_times.insert(num,0)    \n",
    "            else: \n",
    "                soup = BeautifulSoup(myHTML, \"lxml\")\n",
    "                # we create 2 local variables so as to gather the \n",
    "                #different dimensions and occurencies  of each page seperately\n",
    "                s_dimensions_local = []\n",
    "                s_times_local = []\n",
    "                hw = 0 \n",
    "                # we use it for the lists of height and width\n",
    "                # find all the img in the first site html.Since in some \n",
    "                #cases either the height or the width is missing we would \n",
    "                #like to keep only the ones that have both dimensions\n",
    "                for tag in soup.find_all('img'):\n",
    "                    h = tag.attrs.get('height', None)\n",
    "                    w = tag.attrs.get('width', None)\n",
    "                    #we use if to check which ones have both \n",
    "                    if h != None:\n",
    "                        if w != None:\n",
    "                            ht.insert(hw,h)\n",
    "                            wt.insert(hw,w)\n",
    "                            hw = hw + 1                        \n",
    "                hw2 = 0\n",
    "                for l in range(len(ht)):\n",
    "                    h_w_c = ht[l] + 'x' + wt[l]    \n",
    "                    #we create a str with the form (300x300) \n",
    "                    #so as to be more easily to read later on \n",
    "                    h_w.insert(hw2,h_w_c)  \n",
    "                    #we put it in a new list\n",
    "                    hw2 = hw2 + 1    \n",
    "                if h_w == []:#we check if there are not any dimensions available\n",
    "                    nm.insert(num,num)                  \n",
    "                    s_comp.insert(num,list500_names[num])\n",
    "                    s_dimensions.insert(num,0)\n",
    "                    s_times.insert(num,0)    \n",
    "                if h_w != []:#now we continue with the cases \n",
    "                    #where the dimensions are indeed available             \n",
    "                    from collections import Counter\n",
    "                    hw_unique = Counter(h_w)\n",
    "                    hw_unique2 = str(hw_unique) \n",
    "                    #the unique different dimensions for the specific site\n",
    "                    #Due to the fact that we are talking about \n",
    "                    #a list we have to split the parts we need \n",
    "                    split1 = hw_unique2.split('{')\n",
    "                    a = split1[1]\n",
    "                    split2 = a.split('}')\n",
    "                    b = split2[0]\n",
    "                    split3 = b.split(',')\n",
    "                    finalsplit = []\n",
    "                    fs = []\n",
    "                    z = 0\n",
    "                    m = 1\n",
    "                    j = 0\n",
    "                    z1 = 0\n",
    "                    m1 = 1\n",
    "                    #each of the items in split3 has a form '300x300 : 15'\n",
    "                    #and in order to create the dataframe we have \n",
    "                    #to split this form and keep the informations in different list\n",
    "                    for numb in split3:                \n",
    "                        oldstring = numb\n",
    "                        newstring = oldstring.replace(\"'\", \"\")\n",
    "                        new = newstring.replace(\"'\",\"\")\n",
    "                        string = new.replace(\" \",\"\")\n",
    "                        finalstring = string.split(':')\n",
    "                        #the finalstring is a list that contains the dimensions\n",
    "                        #and the occurencies in order toseperate in different\n",
    "                        #lists we create an additional loop\n",
    "                        for xx in range(len(finalstring)):\n",
    "                            ax = finalstring[xx]\n",
    "                            if 'x' in ax:\n",
    "                                s_dimensions_local.insert(z1,finalstring[xx])\n",
    "                                z1 = z1 + 1\n",
    "                            else:\n",
    "                                s_times_local.insert(m1,finalstring[xx])\n",
    "                                m1 = m1 + 1  \n",
    "                    #Now we can add to the lists the parts we created so as\n",
    "                    #to have them all gathered together             \n",
    "                    s_dimensions.insert(num,s_dimensions_local)\n",
    "                    s_times.insert(num,s_times_local)                \n",
    "    end = time ()\n",
    "    duration = round (end - start, 3)\n",
    "    minutes = round (duration /60, 1)\n",
    "    print 'The lists are ready in ', minutes, ' minutes'\n",
    "    print 'The lists are ready in ', duration, ' seconds'"
   ]
  },
  {
   "cell_type": "code",
   "execution_count": 80,
   "metadata": {
    "collapsed": false
   },
   "outputs": [
    {
     "name": "stdout",
     "output_type": "stream",
     "text": [
      "The lists are ready in  1.4  minutes\n",
      "The lists are ready in  81.813  seconds\n"
     ]
    }
   ],
   "source": [
    "#Run the function for the first 20 sites\n",
    "find_dif_sizes (list500_sites,list500_names,list500_url)"
   ]
  },
  {
   "cell_type": "code",
   "execution_count": 81,
   "metadata": {
    "collapsed": false
   },
   "outputs": [],
   "source": [
    "#Find the unique different image dimensions and put them on a list\n",
    "def unique_dif_sizes (s_dimensions,list500_names):\n",
    "    ds = 0\n",
    "    for num in range(len(list500_names)):\n",
    "        asw = s_dimensions[num]\n",
    "        if asw != 0 :\n",
    "            for s in range(len(asw)):\n",
    "                ss = asw[s]\n",
    "                dif_size.insert(ds,ss)\n",
    "                ds = ds + 1    \n",
    "    dsu = 0\n",
    "    for i in dif_size:\n",
    "        if i not in un_size:\n",
    "            un_size.insert(dsu,i)\n",
    "            dsu = dsu + 1\n",
    "    print(un_size)          "
   ]
  },
  {
   "cell_type": "code",
   "execution_count": 82,
   "metadata": {
    "collapsed": false
   },
   "outputs": [
    {
     "name": "stdout",
     "output_type": "stream",
     "text": [
      "['15x75', '44x556', '1x1', '800x1200', '24pxx133px', '21pxx173px', '49x49', '50x45', '29x29', '115x223', '160x233', '41x192', '28x221', '300x993', '15x12', '70x70', '170x300', '83x250', '115x150', '150x150', '11x8', '75x85', 'x', '23x27', '262x100%', '86x226', '280x691', '42x168', '1x700', '27x156', '24x24', '1x10', '10x1', '8x10', '1x660', '19x1', '17x16', '25x125', '2x2', '397x700', '640x1920', '843x1900', '76x209', '53x84', '61x120', '35x35', '10pxx10px', '107x128', '197x875', '403x961', '20x113', '40x90', '0x0', '421x638', '24x83', '160x300', '160x475', '979x833', '430x1000', '210x320', '47x123', '32x116', '576x1024', '681x1024', '175pxx978px', '20x20', '100x100', '80x100', '450x1600', '200x1600', '16x16', '468x990', '42x86', '360x360', '25x61', '51pxx353px', '184x176', '40x148', '165x175', '80x96', '26x76', '16x87', '113x350', '98x113', '280x400', '1080x1295', '533x800', '610x800', '400x600', '148x169', '64x236', '47x236', '25x29', '28x28', '170x252', '199pxx248px', '45x91', '26x151', '16x32', '43x43', '46x223', '399pxx724px', '400x980', '45x45', '45x46', '45x269', '500x500', '484x790', '125x125', '250x480', '418x1300', '396x900', '233x389', '32x32', '18x75', '48x90', '30x113', '281x530', '11x16', '527x922', '7x7', '7x4', '12x7', '70x200', '7x19', '375x753', '460x1180', '195x537', '324x1000', '29x1000', '46x48', '71x234', '24x26', '4x983', '64x144', '20x146', '50x240', '160x225', '310x520', '175x290', '52x166', '420x1600', '169x308', '40x40', '154x268', '300x1600', '27x27', '360x640', '52x123', '52x136', '61x219', '34x115', '34x226', '100x165\\\\r\\\\n', '100x165', '4x169', '34x191', '34x78', '49x244', '34x125', '31x31', '10x10', '16x141', '42x63', '44x68', '43x72', '42x43', '37x65', '270x340', '42pxx42px', '396x960', '59x301', '42x55', '35x60', '50x50', '45x73', '27x18', '27x113', '27x718', '27x26', '172x150', '27x25', '277x247', '25x120', '29x140', '61x213', '1x110', '100x340', '13x235', '11x9', '12x235', '38x38', '140x240', '67x200', '30pxx30px', '130x126', '156x308', '14x147', '180x948', '323x948', '450x557', '700x1060', '523x2560', '412x2560', '420x2560', '700x2560', '513x939', '465x557', '106x940', '79x1060', '915x503', '530x2560', '55x55', '90x90', '105x184', '39x158', '230x354', '450x1450', '37x37', '110x140', '140x140', '315x560', '56x281', '754x2409', '399x680', '91x136', '21x134', 'autox100%', 'autox200', '40x350', '12x12', '48x91', '25x5', '2x213', '81x213', '25x15', '15x213', '18x85', '18x136', '18x138', '18x106', '132x762', '18x78', '15x25', '67x213', '18x60', '18x59', '18x52', '18x48', '93x213', '1350x1900', '44x44', '44x47', '48x48', '63x62', '135x240', '94x146', '337x727', '293x229', '8x13', '50x173', '340x229', '35x45', '148x150', '79x150', '96x108', '277x910', '265x35', '17x23', '22x980', '30x130', '24x258', '500x1280', '225x305', '30pxx283px', '200x200', '92x211', '900x2400', '900x900', '901x901', '272x400', '37x118', '210x420', '526x1400', '144x288', '165x141', '110x110', '662x1170', '25x20', '29x28', '642x615', '140x720', '768x615', '404x505', '70x360', '631x505', '46x660', '492x615', '6x4', '112x293', '44x334', '14x18', '260x427', '59x276', '9x30', '26x26', '18x18', '61x194', '327x986', '66x53', '19x155', '16x12', '56x56', '24x163', '57x63', '4x975', '1x975', '121x215', '129x129', '111x111', '42x206', '2x4', '396x208', '215x455', '53x221', '34x825', '34x165', '47x283', '82x301', '138x129', '92x118', '200x250', '30x150', '61x508', '110x258', '64x92', '118x74', '113x945', '37x262', '35x300', '20x200', '20x65', '43x960', '20x120', '8x16', '608x960', '152x263', '336x378', '40x125', '40x120', '2x13', '2x12', '24x1', '2x30', '72x179', '2x17', '6x1', '2x21', '22x22', '34x33', '62x107', '18x21', '17x17', '131x175', '124x195', '384x659', '85x95', '127x151', '8x8', '19x19', '280x660', '39x250', '279x466', '62x250', '513x800', '700x400', '80x43', '60x21', '80x53', '80x37', '23x140', '22x4', '45x4', '12x15', '21x6', '39x974', '169x144', '53x198', '34x129', '34x171', '34x116', '12x14', '27x83', '34x245', '34x104', '34x118', '407x397', '287x280', '104x400', '137x107', '34x192', '39x223', '52x325', '70x205', '52x338', '31x67', '88x194', '24x13', '100x265', '14x20', '269x1280', '14x196', '97x75', '67x92', '10pxx42px', '218x388', '350x800', '25x94', '280x960', '260x800', '260x2800', '40x143', '310x310', '74x70', '84x53', '621x621', '88x63', '100x196', '102x198', '100x175', '145x165', '300x768', '140x165', '496x991', '43x24', '250pxx735px', '480x1250', '218x291', '19x112', '19x201', '188x795', '480x374', '44x179', '378x153', '79x106', '55x110', '19x135', '19x258', '19x87', '319x178', '307x158', '19x192', '23x64', '101x218', '280x410', '134x238', '255x255', '52x52', '255x537', '256x256', '427x1280', '23pxx23px', '52x100', '219x283', '350x975', '1050x990', '33x301', '238x660', '52x233', '288x768', '51x328', '343x1347', '253x423', '345x1362', '14x15', '288x476', '150x300', '300x940', '68x182', '114x200', '691x560', '87x94', '170x417', '331x600', '305x655', '780x1440', '305x665', '70x132', '45x134', '2000x2000', '66x179', '30x30', '786x1487', '786x1490', '785x1490', '144x144', '55x323', '512x512', '328x900', '106x148', '139x289', '120x225', '156x338', '157x343', '157x578', '111x150', '43x141', '130x175', '20x94', '285x640', '335x647', '8x7', '207x314', '20x21', '573x959', '57x45', '57x44', '188x479', '57x96', '57x95', '39x150', '57x104', '57x100', '57x67', '57x136', '57x38', '57x48', '57x43', '57x42', '57x84', '57x114', '57x58', '57x99', '57x97', '57x68', '57x27', '57x105', '57x103', '57x66', '57x65', '57x62', '57x60', '57x69', '31x150', '57x137', '57x131', '57x35', '57x37', '57x32', '57x82', '57x71', '57x73', '57x76', '57x77', '29x150', '57x126', '57x122', '57x36', '57x49', '57x40', '426x712', '57x46', '49x150', '57x87', '57x86', '57x80', '57x83', '57x110', '57x115', '57x50', '57x51', '57x56', '57x57', '11x12', '25x2', '76x85', '11x140', '40x24', '14x121', '38x131', '42x294', '10x18', '76x84', '76x83', '76x2', '16x200', '224x294', '430x1920', '300x300', '25x25', '33x144', '350x712', '38x276', '265x750', '35x97', '72x136', '50x167', '46x176', '100x300', '75x150', '435x1170', '96x217', '460x1170', '500x1170', '566x581', '208x292', '280x290', '39pxx40px', '84x158', '9x9', '10x5', '15x7', '28x71', '1x20', '4x54', '28x80', '22x116', '62x1', '28x149', '28x100', '50x140', '229x722', '0x1', '140x220', '44x70', '240x380', '300x960', '475x1200', '110x350', 'autox400', '53x190', '58x150', '125x296', '159x147', '72x192', '100%x100%', '181x984', '74x347', '284x308', '386x962', '261x649', '14pxx14px', '13pxx46px', '42x186', '12x244', '48x163', '515x1065', '172x254', '321x360', '600x2000', '122x142', '603x2000', '451x1500', '450x1500', '379x1265', '24x129', '24x71', '210x210', '82x206', '450x640', '50x156', '482x557', '300x600', '80x80', '11x72', '181x314', '38x135', '72x202', '546x970', '98x75', '192x342', '14x14', '111x418', '74x400', '30x374', '290x940', '600x1200', '400x400', '225x300', '425x650', '425x640', '348x378', '357x308', '26x243', '620x1280', '21x21', '426x710', '1080x1920', '23x23', '326x580', '734x1280', '1200x1800', '21x22', '21x23', '12pxx12px', '120x120', '46x46', '318x460', '370x630', '75x171', '105x530', '781x1800', '50x100', '79x126', '130x176']\n"
     ]
    }
   ],
   "source": [
    "#Run the function unique_dif_sizes\n",
    "unique_dif_sizes (s_dimensions,list500_names)"
   ]
  },
  {
   "cell_type": "code",
   "execution_count": 83,
   "metadata": {
    "collapsed": true
   },
   "outputs": [],
   "source": [
    "#The lists we will need for the next function\n",
    "t_f_s = []\n",
    "ttf = []\n",
    "nm = []\n",
    "com = []"
   ]
  },
  {
   "cell_type": "code",
   "execution_count": 84,
   "metadata": {
    "collapsed": true
   },
   "outputs": [],
   "source": [
    "#Function in order to check whether or not each \n",
    "#company has these dimensions\n",
    "def dimensions_per_company (un_size,list500_names):\n",
    "    from time import time \n",
    "    # I used it to see how much time it does to run the function\n",
    "    start = time ()\n",
    "    #t_f_s.insert(0,un_size)\n",
    "    #ttf.insert(0,t_f_s)\n",
    "    for num in range(len(list500_names)): \n",
    "        #print(str(num))\n",
    "        s1a = s_dimensions[num] \n",
    "        #dimensions of site num\n",
    "        where = [] #empty list\n",
    "        wh = 0\n",
    "        haveornot = []\n",
    "        for er in range (len(un_size)):\n",
    "            if s1a != 0 :\n",
    "                for sizea in s1a:\n",
    "                    if sizea == un_size[er]:\n",
    "                        where.insert(wh,str(er))\n",
    "                        wh = wh +1\n",
    "                        break\n",
    "            if str(er) in where:\n",
    "                haveornot.insert(er,True)                    \n",
    "            else:\n",
    "                haveornot.insert(er,False)\n",
    "                    \n",
    "        t_f_s.insert(num,haveornot)\n",
    "        ttf.insert(num,t_f_s)\n",
    "        nm.insert(num,num)\n",
    "        com.insert(num,list500_names[num])\n",
    "    end = time ()\n",
    "    duration = round (end - start, 3)\n",
    "    minutes = round (duration /60, 1)\n",
    "    print 'The lists are ready in ', minutes, ' minutes'\n",
    "    print 'The lists are ready in ', duration, ' seconds'"
   ]
  },
  {
   "cell_type": "code",
   "execution_count": 85,
   "metadata": {
    "collapsed": false
   },
   "outputs": [
    {
     "name": "stdout",
     "output_type": "stream",
     "text": [
      "The lists are ready in  0.1  minutes\n",
      "The lists are ready in  3.699  seconds\n"
     ]
    }
   ],
   "source": [
    "#Run the function dimensions_per_company\n",
    "dimensions_per_company (un_size,list500_names)"
   ]
  },
  {
   "cell_type": "code",
   "execution_count": 86,
   "metadata": {
    "collapsed": false
   },
   "outputs": [
    {
     "data": {
      "text/html": [
       "<div>\n",
       "<table border=\"1\" class=\"dataframe\">\n",
       "  <thead>\n",
       "    <tr style=\"text-align: right;\">\n",
       "      <th></th>\n",
       "      <th>company</th>\n",
       "    </tr>\n",
       "  </thead>\n",
       "  <tbody>\n",
       "    <tr>\n",
       "      <th>0</th>\n",
       "      <td>Walmart</td>\n",
       "    </tr>\n",
       "    <tr>\n",
       "      <th>1</th>\n",
       "      <td>Exxon Mobil</td>\n",
       "    </tr>\n",
       "    <tr>\n",
       "      <th>2</th>\n",
       "      <td>Apple</td>\n",
       "    </tr>\n",
       "  </tbody>\n",
       "</table>\n",
       "</div>"
      ],
      "text/plain": [
       "       company\n",
       "0      Walmart\n",
       "1  Exxon Mobil\n",
       "2        Apple"
      ]
     },
     "execution_count": 86,
     "metadata": {},
     "output_type": "execute_result"
    }
   ],
   "source": [
    "#Create an initial dataframe where we will add the sizes later on\n",
    "d6 = {'company' : pd.Series(com, index=[nm])}\n",
    "sizess = pd.DataFrame(d6)    \n",
    "sizess.head(3)"
   ]
  },
  {
   "cell_type": "code",
   "execution_count": 89,
   "metadata": {
    "collapsed": false
   },
   "outputs": [],
   "source": [
    "#Now we want to break the variable t_f_s \n",
    "#in order to add the columns to the dataframe                  \n",
    "#Finally we create the data frame with the elements we found \n",
    "def final_dimensions_dataframe (un_size,t_f_s,list500_names):\n",
    "    from time import time \n",
    "    # I used it to see how much time it does to run the function\n",
    "    start = time ()\n",
    "    for q in range(len(un_size)):\n",
    "        names = un_size[q]\n",
    "        var = []\n",
    "        for num in range(len(list500_names)):\n",
    "            a = t_f_s[num]\n",
    "            var.insert(num,a[q])\n",
    "        sizess[names] = pd.Series(var, index=sizess.index) \n",
    "    end = time ()\n",
    "    duration = round (end - start, 3)\n",
    "    minutes = round (duration /60, 1)\n",
    "    print 'The lists are ready in ', minutes, ' minutes'\n",
    "    print 'The lists are ready in ', duration, ' seconds'"
   ]
  },
  {
   "cell_type": "code",
   "execution_count": 90,
   "metadata": {
    "collapsed": false
   },
   "outputs": [
    {
     "name": "stdout",
     "output_type": "stream",
     "text": [
      "The lists are ready in  0.0  minutes\n",
      "The lists are ready in  0.414  seconds\n"
     ]
    }
   ],
   "source": [
    "#Run the function final_dimensions_dataframe\n",
    "final_dimensions_dataframe (un_size,t_f_s,list500_names)"
   ]
  },
  {
   "cell_type": "code",
   "execution_count": 91,
   "metadata": {
    "collapsed": false
   },
   "outputs": [
    {
     "data": {
      "text/html": [
       "<div>\n",
       "<table border=\"1\" class=\"dataframe\">\n",
       "  <thead>\n",
       "    <tr style=\"text-align: right;\">\n",
       "      <th></th>\n",
       "      <th>company</th>\n",
       "      <th>15x75</th>\n",
       "      <th>44x556</th>\n",
       "      <th>1x1</th>\n",
       "      <th>800x1200</th>\n",
       "      <th>24pxx133px</th>\n",
       "      <th>21pxx173px</th>\n",
       "      <th>49x49</th>\n",
       "      <th>50x45</th>\n",
       "      <th>29x29</th>\n",
       "      <th>...</th>\n",
       "      <th>120x120</th>\n",
       "      <th>46x46</th>\n",
       "      <th>318x460</th>\n",
       "      <th>370x630</th>\n",
       "      <th>75x171</th>\n",
       "      <th>105x530</th>\n",
       "      <th>781x1800</th>\n",
       "      <th>50x100</th>\n",
       "      <th>79x126</th>\n",
       "      <th>130x176</th>\n",
       "    </tr>\n",
       "  </thead>\n",
       "  <tbody>\n",
       "    <tr>\n",
       "      <th>497</th>\n",
       "      <td>NVR</td>\n",
       "      <td>True</td>\n",
       "      <td>True</td>\n",
       "      <td>True</td>\n",
       "      <td>True</td>\n",
       "      <td>True</td>\n",
       "      <td>True</td>\n",
       "      <td>True</td>\n",
       "      <td>True</td>\n",
       "      <td>True</td>\n",
       "      <td>...</td>\n",
       "      <td>True</td>\n",
       "      <td>True</td>\n",
       "      <td>False</td>\n",
       "      <td>False</td>\n",
       "      <td>False</td>\n",
       "      <td>False</td>\n",
       "      <td>False</td>\n",
       "      <td>False</td>\n",
       "      <td>False</td>\n",
       "      <td>False</td>\n",
       "    </tr>\n",
       "    <tr>\n",
       "      <th>498</th>\n",
       "      <td>Cincinnati Financial</td>\n",
       "      <td>True</td>\n",
       "      <td>True</td>\n",
       "      <td>True</td>\n",
       "      <td>True</td>\n",
       "      <td>True</td>\n",
       "      <td>True</td>\n",
       "      <td>True</td>\n",
       "      <td>True</td>\n",
       "      <td>True</td>\n",
       "      <td>...</td>\n",
       "      <td>True</td>\n",
       "      <td>True</td>\n",
       "      <td>True</td>\n",
       "      <td>True</td>\n",
       "      <td>True</td>\n",
       "      <td>True</td>\n",
       "      <td>True</td>\n",
       "      <td>True</td>\n",
       "      <td>False</td>\n",
       "      <td>False</td>\n",
       "    </tr>\n",
       "    <tr>\n",
       "      <th>499</th>\n",
       "      <td>Burlington Stores</td>\n",
       "      <td>True</td>\n",
       "      <td>True</td>\n",
       "      <td>True</td>\n",
       "      <td>True</td>\n",
       "      <td>True</td>\n",
       "      <td>True</td>\n",
       "      <td>True</td>\n",
       "      <td>True</td>\n",
       "      <td>True</td>\n",
       "      <td>...</td>\n",
       "      <td>True</td>\n",
       "      <td>True</td>\n",
       "      <td>True</td>\n",
       "      <td>True</td>\n",
       "      <td>True</td>\n",
       "      <td>True</td>\n",
       "      <td>True</td>\n",
       "      <td>True</td>\n",
       "      <td>True</td>\n",
       "      <td>True</td>\n",
       "    </tr>\n",
       "  </tbody>\n",
       "</table>\n",
       "<p>3 rows × 706 columns</p>\n",
       "</div>"
      ],
      "text/plain": [
       "                  company 15x75 44x556   1x1 800x1200 24pxx133px 21pxx173px  \\\n",
       "497                   NVR  True   True  True     True       True       True   \n",
       "498  Cincinnati Financial  True   True  True     True       True       True   \n",
       "499     Burlington Stores  True   True  True     True       True       True   \n",
       "\n",
       "    49x49 50x45 29x29   ...   120x120 46x46 318x460 370x630 75x171 105x530  \\\n",
       "497  True  True  True   ...      True  True   False   False  False   False   \n",
       "498  True  True  True   ...      True  True    True    True   True    True   \n",
       "499  True  True  True   ...      True  True    True    True   True    True   \n",
       "\n",
       "    781x1800 50x100 79x126 130x176  \n",
       "497    False  False  False   False  \n",
       "498     True   True  False   False  \n",
       "499     True   True   True    True  \n",
       "\n",
       "[3 rows x 706 columns]"
      ]
     },
     "execution_count": 91,
     "metadata": {},
     "output_type": "execute_result"
    }
   ],
   "source": [
    "sizess.tail(3)"
   ]
  },
  {
   "cell_type": "code",
   "execution_count": 92,
   "metadata": {
    "collapsed": false
   },
   "outputs": [],
   "source": [
    "#Now we would like to find the words in the text \n",
    "#and the unique words of each html page\n",
    "#First of all we need to have a dictionary with which \n",
    "#we would check if the word we found truly exists\n",
    "#The dictionary is available in the internet from a \n",
    "#github acount from where we are going to read it\n",
    "url_dictionary = \"https://raw.githubusercontent.com/dwyl/english-words/master/words.txt\"\n",
    "browser = urllib2.build_opener()\n",
    "browser.addheaders = [('User-agent', 'Mozilla/5.0')]\n",
    "response = browser.open(url_dictionary)\n",
    "html_dictionary = response.read()\n",
    "html_dictionary\n",
    "dicti = str(html_dictionary)\n",
    "#dicti"
   ]
  },
  {
   "cell_type": "code",
   "execution_count": 93,
   "metadata": {
    "collapsed": false
   },
   "outputs": [
    {
     "data": {
      "text/plain": [
       "'a1'"
      ]
     },
     "execution_count": 93,
     "metadata": {},
     "output_type": "execute_result"
    }
   ],
   "source": [
    "#dict_new = dicti.split(\"\\\\n\")\n",
    "dict_new = dicti.split(\"\\n\")\n",
    "dict_new[49] \n",
    "#the first 49 parts are not words so we have to remove them from the list"
   ]
  },
  {
   "cell_type": "code",
   "execution_count": 94,
   "metadata": {
    "collapsed": false
   },
   "outputs": [
    {
     "data": {
      "text/plain": [
       "'aa'"
      ]
     },
     "execution_count": 94,
     "metadata": {},
     "output_type": "execute_result"
    }
   ],
   "source": [
    "dict_final = []\n",
    "df = 0\n",
    "for i in range (50,len(dict_new)):\n",
    "    forfinal = dict_new[i]\n",
    "    forfinal = forfinal.replace(\"'\",\"\")\n",
    "    dict_final.insert(df,forfinal)\n",
    "    df = df + 1\n",
    "dict_final[0] \n",
    "#This is the original dictionary with which we will check each word"
   ]
  },
  {
   "cell_type": "code",
   "execution_count": 95,
   "metadata": {
    "collapsed": false
   },
   "outputs": [],
   "source": [
    "#And now we will find each html file which words has inside\n",
    "empty = []\n",
    "wordsin = []\n",
    "ocin = []\n",
    "def html_which_word (list500_names):\n",
    "    from time import time \n",
    "    # I used it to see how much time it does to run the function\n",
    "    start_t = time()\n",
    "    for num in range(len(list500_sites)):\n",
    "            line = list500_sites[num] \n",
    "            if line == 0:\n",
    "                wordsin.insert(num,0)\n",
    "                ocin.insert(num,0)                 \n",
    "            else: \n",
    "                wordcount={}\n",
    "                simeiastiksis = [\"/\",\".\",\",\",\"=\",\">\",\"<\",\"?\",\"|\",\":\"\n",
    "                                 ,\"_\",\"]\",\"[\",\"$\",\"&\",\"%\",\"(\",\")\",\"{\"\n",
    "                                 ,\"}\",'\"',\";\",\"\\\\\",\"-\",\"!\",\"+\",\"#\",\"=\"\n",
    "                                 ,\"@\",\"^\",\"*\",\"'\"]\n",
    "                for ss in range(len(simeiastiksis)):\n",
    "                    simeio = simeiastiksis[ss]     \n",
    "                    line = line.replace(simeio, \" \")\n",
    "                for word1 in line.split():\n",
    "                    word1 = word1.lower()\n",
    "                    if word1 in dict_final:\n",
    "                        if word1 not in wordcount:\n",
    "                            wordcount[word1] = 1\n",
    "                        else:\n",
    "                            wordcount[word1] += 1     \n",
    "                wordsin_local = []\n",
    "                wl = 0\n",
    "                ocin_local = []\n",
    "                for k,v in wordcount.items():\n",
    "                       #print (k,v)\n",
    "                       wordsin_local.insert(wl,str(k))\n",
    "                       ocin_local.insert(wl,str(v))\n",
    "                       wl = wl + 1\n",
    "                wordsin.insert(num,wordsin_local) \n",
    "                # final list with all the words in each site\n",
    "                ocin.insert(num,ocin_local)  \n",
    "                #final list with all the occurencies of the words in each site\n",
    "            #print('The site', str(num +1), ' has been checked')\n",
    "    end_t = time()\n",
    "    total_t = round(end_t - start_t,3)\n",
    "    total_ = round(total_t / 60,1)\n",
    "    print('finished ',str(x) ,' sites in: ', str(total_),' minutes')"
   ]
  },
  {
   "cell_type": "code",
   "execution_count": 96,
   "metadata": {
    "collapsed": false
   },
   "outputs": [
    {
     "name": "stdout",
     "output_type": "stream",
     "text": [
      "('finished ', 'True', ' sites in: ', '197.6', ' minutes')\n"
     ]
    }
   ],
   "source": [
    "html_which_word (list500_names)"
   ]
  },
  {
   "cell_type": "code",
   "execution_count": 97,
   "metadata": {
    "collapsed": false
   },
   "outputs": [
    {
     "data": {
      "text/html": [
       "<div>\n",
       "<table border=\"1\" class=\"dataframe\">\n",
       "  <thead>\n",
       "    <tr style=\"text-align: right;\">\n",
       "      <th></th>\n",
       "      <th>company</th>\n",
       "    </tr>\n",
       "  </thead>\n",
       "  <tbody>\n",
       "    <tr>\n",
       "      <th>0</th>\n",
       "      <td>Walmart</td>\n",
       "    </tr>\n",
       "    <tr>\n",
       "      <th>1</th>\n",
       "      <td>Exxon Mobil</td>\n",
       "    </tr>\n",
       "    <tr>\n",
       "      <th>2</th>\n",
       "      <td>Apple</td>\n",
       "    </tr>\n",
       "  </tbody>\n",
       "</table>\n",
       "</div>"
      ],
      "text/plain": [
       "       company\n",
       "0      Walmart\n",
       "1  Exxon Mobil\n",
       "2        Apple"
      ]
     },
     "execution_count": 97,
     "metadata": {},
     "output_type": "execute_result"
    }
   ],
   "source": [
    "#Create the dataframe for the words and unique words\n",
    "d7 = {'company' : pd.Series(list500_names, index=[nm])}\n",
    "wordss = pd.DataFrame(d7)    \n",
    "wordss.head(3) "
   ]
  },
  {
   "cell_type": "code",
   "execution_count": 98,
   "metadata": {
    "collapsed": false
   },
   "outputs": [
    {
     "data": {
      "text/html": [
       "<div>\n",
       "<table border=\"1\" class=\"dataframe\">\n",
       "  <thead>\n",
       "    <tr style=\"text-align: right;\">\n",
       "      <th></th>\n",
       "      <th>company</th>\n",
       "      <th>total_words</th>\n",
       "      <th>unique_words</th>\n",
       "    </tr>\n",
       "  </thead>\n",
       "  <tbody>\n",
       "    <tr>\n",
       "      <th>0</th>\n",
       "      <td>Walmart</td>\n",
       "      <td>1646</td>\n",
       "      <td>443</td>\n",
       "    </tr>\n",
       "    <tr>\n",
       "      <th>1</th>\n",
       "      <td>Exxon Mobil</td>\n",
       "      <td>801</td>\n",
       "      <td>154</td>\n",
       "    </tr>\n",
       "    <tr>\n",
       "      <th>2</th>\n",
       "      <td>Apple</td>\n",
       "      <td>397</td>\n",
       "      <td>123</td>\n",
       "    </tr>\n",
       "  </tbody>\n",
       "</table>\n",
       "</div>"
      ],
      "text/plain": [
       "       company total_words unique_words\n",
       "0      Walmart        1646          443\n",
       "1  Exxon Mobil         801          154\n",
       "2        Apple         397          123"
      ]
     },
     "execution_count": 98,
     "metadata": {},
     "output_type": "execute_result"
    }
   ],
   "source": [
    "#Create the two lists we will need in order to make the dataframe\n",
    "l1 = []\n",
    "l2 = []\n",
    "for num in range(len(list500_names)):\n",
    "        line = list500_sites[num] \n",
    "        if wordsin[num] == 0 :             \n",
    "            l1.insert(num,'n/a')\n",
    "            l2.insert(num,'n/a')\n",
    "        else:\n",
    "            total_words = len(wordsin[num])\n",
    "            occurencies = ocin[num] \n",
    "            l1.insert(num,total_words)\n",
    "            count = 0 \n",
    "            for a in occurencies :\n",
    "                if a == '1':\n",
    "                    count = count + 1\n",
    "            l2.insert(num,count)\n",
    "wordss['total_words'] = pd.Series(l1, index=sizess.index)\n",
    "wordss['unique_words'] = pd.Series(l2, index=sizess.index)          \n",
    "wordss.head(3)                        "
   ]
  },
  {
   "cell_type": "code",
   "execution_count": 99,
   "metadata": {
    "collapsed": true
   },
   "outputs": [],
   "source": [
    "#In order to validate the html code we will use the w3 validator\n",
    "#We will validate each url and then we will open the url of the validation page\n",
    "#so as to extract the errors, the info warnings and the non-document-error io informations \n",
    "#First we create the empty lists we would use later on\n",
    "num_errors = []\n",
    "num_info_warnings = []\n",
    "num_non_doc = [] \n",
    "nm = []\n",
    "num_open_page = []\n",
    "empty = \"\""
   ]
  },
  {
   "cell_type": "code",
   "execution_count": 100,
   "metadata": {
    "collapsed": true
   },
   "outputs": [],
   "source": [
    "#Then we create the function that will pull the informations we want\n",
    "def html_validation (list500_url,list500_names):\n",
    "    from time import time # I used it to see how much time it does to run the function\n",
    "    start = time ()\n",
    "    for num in range(len(list500_names)):\n",
    "        line = list500_url[num] \n",
    "        url_check = \"https://validator.w3.org/nu/?doc=https://\" + line\n",
    "        browser = urllib2.build_opener()\n",
    "        browser.addheaders = [('User-agent', 'Mozilla/5.0')]\n",
    "        response = browser.open(url_check)\n",
    "        html_check = response.read()\n",
    "        html_check\n",
    "        check = str(html_check)\n",
    "        er = 0\n",
    "        err = 0\n",
    "        errr = 0\n",
    "        e = False\n",
    "        if check != empty:\n",
    "            e = True\n",
    "            soup = BeautifulSoup(check,\"lxml\")\n",
    "            o = 0\n",
    "            keyf = []\n",
    "            for row in soup.html.body.findAll('div'):\n",
    "                keyf.insert(o,row)\n",
    "                o = o + 1\n",
    "            #print(len(keyf),list500_url[num], \"site number: \", str(num))        \n",
    "            if len(keyf) != 0:       \n",
    "                    keyfin = str(keyf[2]) \n",
    "                    #the elements we need is in the 2nd div of the code\n",
    "                    dol= re.findall('class=\"error\"',keyfin)            \n",
    "                    er = er + len(dol)\n",
    "                    doll= re.findall('class=\"info warning\"'\n",
    "                                     ,keyfin)            \n",
    "                    err = err + len(doll)\n",
    "                    dolll= re.findall('class=\"non-document-error io\"'\n",
    "                                      ,keyfin)            \n",
    "                    errr = errr + len(dolll)\n",
    "        num_errors.insert(num,er)\n",
    "        num_info_warnings.insert(num,err)\n",
    "        num_non_doc.insert(num,errr)  \n",
    "        nm.insert(num,num) \n",
    "        num_open_page.insert(num,e)\n",
    "    end = time ()\n",
    "    duration = round (end - start, 3)\n",
    "    minutes = round (duration /60, 1)\n",
    "    print 'The lists are ready in ', minutes, ' minutes'"
   ]
  },
  {
   "cell_type": "code",
   "execution_count": 101,
   "metadata": {
    "collapsed": false
   },
   "outputs": [
    {
     "name": "stdout",
     "output_type": "stream",
     "text": [
      "The lists are ready in  37.0  minutes\n"
     ]
    }
   ],
   "source": [
    "#Now we will run the function we created\n",
    "html_validation (list500_url,list500_names)"
   ]
  },
  {
   "cell_type": "code",
   "execution_count": 102,
   "metadata": {
    "collapsed": false
   },
   "outputs": [
    {
     "data": {
      "text/html": [
       "<div>\n",
       "<table border=\"1\" class=\"dataframe\">\n",
       "  <thead>\n",
       "    <tr style=\"text-align: right;\">\n",
       "      <th></th>\n",
       "      <th>The_page_opened</th>\n",
       "      <th>company</th>\n",
       "      <th>non-document-error</th>\n",
       "      <th>number_of_errors</th>\n",
       "      <th>number_of_warning</th>\n",
       "    </tr>\n",
       "  </thead>\n",
       "  <tbody>\n",
       "    <tr>\n",
       "      <th>0</th>\n",
       "      <td>True</td>\n",
       "      <td>Walmart</td>\n",
       "      <td>0</td>\n",
       "      <td>879</td>\n",
       "      <td>2</td>\n",
       "    </tr>\n",
       "    <tr>\n",
       "      <th>1</th>\n",
       "      <td>True</td>\n",
       "      <td>Exxon Mobil</td>\n",
       "      <td>0</td>\n",
       "      <td>55</td>\n",
       "      <td>29</td>\n",
       "    </tr>\n",
       "    <tr>\n",
       "      <th>2</th>\n",
       "      <td>True</td>\n",
       "      <td>Apple</td>\n",
       "      <td>0</td>\n",
       "      <td>14</td>\n",
       "      <td>6</td>\n",
       "    </tr>\n",
       "  </tbody>\n",
       "</table>\n",
       "</div>"
      ],
      "text/plain": [
       "  The_page_opened      company  non-document-error  number_of_errors  \\\n",
       "0            True      Walmart                   0               879   \n",
       "1            True  Exxon Mobil                   0                55   \n",
       "2            True        Apple                   0                14   \n",
       "\n",
       "   number_of_warning  \n",
       "0                  2  \n",
       "1                 29  \n",
       "2                  6  "
      ]
     },
     "execution_count": 102,
     "metadata": {},
     "output_type": "execute_result"
    }
   ],
   "source": [
    "#After the checks we will create the dataframe with the informations we want\n",
    "d8 = {'company' : pd.Series(list500_names, index=[nm]),\n",
    "      'The_page_opened' : pd.Series(num_open_page, index=[nm])\n",
    "      ,'number_of_errors' : pd.Series(num_errors, index=[nm]),\n",
    "      'number_of_warning' : pd.Series(num_info_warnings, index=[nm])\n",
    "      ,'non-document-error' : pd.Series(num_non_doc, index=[nm])}\n",
    "html_val = pd.DataFrame(d8)    \n",
    "html_val.head(3) "
   ]
  },
  {
   "cell_type": "code",
   "execution_count": 103,
   "metadata": {
    "collapsed": true
   },
   "outputs": [],
   "source": [
    "#The next step is to take some informations from the fortune 500 site for each company\n",
    "#In order to achieve that we should open the pages for each one of the sites seperately\n",
    "#Since there is a pattern in the way the pages are named it shouldn't be difficult\n",
    "#Firstly we should create the pattern with which we will download the pages\n",
    "#By running the code we can see that the names of each comany are not \n",
    "#written exactly as we have saved them\n",
    "#So we do need to alter the names first in order for the below function to run"
   ]
  },
  {
   "cell_type": "code",
   "execution_count": 104,
   "metadata": {
    "collapsed": true
   },
   "outputs": [],
   "source": [
    "#creating a new list with alterations in order for the names\n",
    "#to match the ones that fortune 500 uses so that we can download the html page\n",
    "list_company_name_new = []\n",
    "for num in range (0,500):\n",
    "    cn = list_company_name[num]\n",
    "    cn = cn.replace(\" \", \"-\")\n",
    "    cn = cn.replace(\"&\", \"\")\n",
    "    cn = cn.replace(\"’\", \"\")\n",
    "    cn = cn.replace(\".\", \"-\")\n",
    "    cn = cn.replace(\"amp;\", \"\")    \n",
    "    company = cn.lower()\n",
    "    list_company_name_new.insert(num,cn)"
   ]
  },
  {
   "cell_type": "code",
   "execution_count": 105,
   "metadata": {
    "collapsed": false
   },
   "outputs": [],
   "source": [
    "fortune_pages = []\n",
    "def fortune500 (list_company_name_new):\n",
    "    from time import time # I used it to see how much time it does to run the function\n",
    "    start = time ()\n",
    "    for num3 in range (0,500):\n",
    "        i = str (num3 +1)    \n",
    "        companyname =  list_company_name_new[num3]\n",
    "        browser = urllib2.build_opener() \n",
    "        #because i work from different computers with different \n",
    "        #pyhton version some commands are not recognizable in each version\n",
    "        browser.addheaders = [('User-agent', 'Mozilla/5.0')]\n",
    "        site_fortune = \"http://beta.fortune.com/fortune500/\"+companyname+\"-\"+ i    \n",
    "        page_fortune = browser.open(site_fortune)\n",
    "        html_fortune = page_fortune.read()    \n",
    "        #print(\"fortune page for company: \", list_company_name_new[num3],i)\n",
    "        fortune_pages.insert(num3, html_fortune)\n",
    "    end = time ()\n",
    "    duration = round (end - start, 3)\n",
    "    minutes = round (duration /60, 1)\n",
    "    print 'The lists are ready in ', minutes, ' minutes'\n",
    "    print 'The lists are ready in ', duration, ' seconds'"
   ]
  },
  {
   "cell_type": "code",
   "execution_count": 106,
   "metadata": {
    "collapsed": false
   },
   "outputs": [
    {
     "name": "stdout",
     "output_type": "stream",
     "text": [
      "The lists are ready in  21.6  minutes\n",
      "The lists are ready in  1295.917  seconds\n"
     ]
    }
   ],
   "source": [
    "#Run the function we created\n",
    "fortune500 (list_company_name_new)"
   ]
  },
  {
   "cell_type": "code",
   "execution_count": 107,
   "metadata": {
    "collapsed": true
   },
   "outputs": [],
   "source": [
    "#Now that we have opened the url we are going to extract \n",
    "#some informations that we need from them\n",
    "#In order to do that initially we have to create \n",
    "#the variables we will need\n",
    "keyf =[]\n",
    "per =[]\n",
    "rev_dol = []\n",
    "rev_per = []\n",
    "prof_dol = []\n",
    "prof_per = []\n",
    "assets_dol = []\n",
    "assets_per = []\n",
    "tse_dol = []\n",
    "tse_per = []\n",
    "mar_dol = []\n",
    "mar_per = []\n",
    "market = []\n",
    "nm = []\n",
    "ln = []\n",
    "urln = []\n",
    "empty = []"
   ]
  },
  {
   "cell_type": "code",
   "execution_count": 108,
   "metadata": {
    "collapsed": false
   },
   "outputs": [],
   "source": [
    "def fortune_metrics (list_company_name,list_company_website):\n",
    "    x = 0\n",
    "    for n in range (0,500):   #we put 25 for testing\n",
    "        nm.insert(x,x)\n",
    "        ln.insert(x,list_company_name[n])\n",
    "        urln.insert(x,list_company_website[n])\n",
    "        files = fortune_pages[x]\n",
    "        soup = BeautifulSoup(files,\"lxml\")\n",
    "        o=0\n",
    "        for row in soup.html.body.findAll('tbody'):\n",
    "            keyf.insert(o,row)\n",
    "            o=o+1\n",
    "        keyfin = keyf[0] \n",
    "        #the elements we need is in the first tbody of the code\n",
    "        data = keyfin.findAll('td')\n",
    "\n",
    "        one = str(data[0]) \n",
    "        # revenue\n",
    "        two = str(data[1]) \n",
    "        # revenue in dollars we need to extract this\n",
    "        revdol= re.findall('>\\$(.+?)</td>',two) \n",
    "        #we keep only the numbers\n",
    "        if revdol[0] != empty:\n",
    "            w = revdol[0]\n",
    "            a = w.replace(\"[\", \"\")\n",
    "            r = a.replace(\"]\",\"\")\n",
    "            rev_dol.insert(x,r)\n",
    "        else:\n",
    "            rev_dol.insert(x,'not available')\n",
    "        tria = str(data[2])\n",
    "        # revenue in percentage we need to extract this as well\n",
    "        revper= re.findall('>(.+?)%</td>',tria) \n",
    "        #we keep only the numbers\n",
    "        if revper != empty:    \n",
    "            w = revper[0]\n",
    "            a = w.replace(\"[\", \"\")\n",
    "            r1 = a.replace(\"]\",\"\")    \n",
    "            rev_per.insert(x,r1) \n",
    "        else:\n",
    "            rev_per.insert(x,'not available')\n",
    "        four = str(data[3])   # profit     \n",
    "        five = str(data[4])   \n",
    "        # profit in dollars we need to extract this   \n",
    "        profdol= re.findall('>\\$(.+?)</td>',five) \n",
    "        #we keep only the numbers\n",
    "        if profdol != empty:\n",
    "            w = profdol[0]\n",
    "            a = w.replace(\"[\", \"\")\n",
    "            p = a.replace(\"]\",\"\")\n",
    "            prof_dol.insert(x,p)\n",
    "        else:\n",
    "            prof_dol.insert(x,'not available')\n",
    "        six = str(data[5])    \n",
    "        # profit in percentage we need to extract this as well   \n",
    "        profper = re.findall('>(.+?)%</td>',six) \n",
    "        #we keep only the numbers\n",
    "        if profper != empty:\n",
    "            w = profper[0]\n",
    "            a = w.replace(\"[\", \"\")\n",
    "            p1 = a.replace(\"]\",\"\")    \n",
    "            prof_per.insert(x,p1)\n",
    "        else:\n",
    "            prof_per.insert(x,'not available')\n",
    "        seven = str(data[6]) #assets\n",
    "        eight = str(data[7]) #assets in dollars we need to extract this\n",
    "        assetsdol= re.findall('>\\$(.+?)</td>',eight) \n",
    "        #we keep only the numbers\n",
    "        if assetsdol != empty:\n",
    "            w = assetsdol[0]\n",
    "            a = w.replace(\"[\", \"\")\n",
    "            ass = a.replace(\"]\",\"\")\n",
    "            assets_dol.insert(x,ass)\n",
    "        else:\n",
    "            assets_dol.insert(x,'not available')\n",
    "        ten = str(data[9]) #Total Stockholder Equity ($M)    \n",
    "        eleven = str(data[10]) \n",
    "        #Total Stockholder Equity ($M) in dollars we need to extract this\n",
    "        tsedol= re.findall('>\\$(.+?)</td>',eleven) \n",
    "        #we keep only the numbers\n",
    "        if tsedol != empty:\n",
    "            w = tsedol[0]\n",
    "            a = w.replace(\"[\", \"\")\n",
    "            ts = a.replace(\"]\",\"\")\n",
    "            tse_dol.insert(x,ts)\n",
    "        else:\n",
    "            tse_dol.insert(x,'not available')\n",
    "        thirteen = str(data[12]) # market value\n",
    "        fourteen = str(data[13]) \n",
    "        # market value in dollars we need to extract this\n",
    "        mardol= re.findall('>\\$(.+?)</td>',fourteen) \n",
    "        #we keep only the numbers\n",
    "        if mardol != empty:\n",
    "            w = mardol[0]\n",
    "            a = w.replace(\"[\", \"\")\n",
    "            mar = a.replace(\"]\",\"\")\n",
    "            mar_dol.insert(x,mar)\n",
    "        else:\n",
    "            mar_dol.insert(x,'not available')\n",
    "        x = x + 1\n",
    "    print \"The function is complete!\""
   ]
  },
  {
   "cell_type": "code",
   "execution_count": 109,
   "metadata": {
    "collapsed": false
   },
   "outputs": [
    {
     "name": "stdout",
     "output_type": "stream",
     "text": [
      "The function is complete!\n"
     ]
    }
   ],
   "source": [
    "fortune_metrics (list_company_name,list_company_website)"
   ]
  },
  {
   "cell_type": "code",
   "execution_count": 110,
   "metadata": {
    "collapsed": false
   },
   "outputs": [
    {
     "data": {
      "text/html": [
       "<div>\n",
       "<table border=\"1\" class=\"dataframe\">\n",
       "  <thead>\n",
       "    <tr style=\"text-align: right;\">\n",
       "      <th></th>\n",
       "      <th>Assets $</th>\n",
       "      <th>Market value $</th>\n",
       "      <th>Revenues $</th>\n",
       "      <th>Revenues %</th>\n",
       "      <th>Total Stockholder Equity $</th>\n",
       "      <th>company</th>\n",
       "    </tr>\n",
       "  </thead>\n",
       "  <tbody>\n",
       "    <tr>\n",
       "      <th>0</th>\n",
       "      <td>199,581</td>\n",
       "      <td>215,356</td>\n",
       "      <td>482,130</td>\n",
       "      <td>-0.7</td>\n",
       "      <td>80,546</td>\n",
       "      <td>Walmart</td>\n",
       "    </tr>\n",
       "    <tr>\n",
       "      <th>1</th>\n",
       "      <td>336,758</td>\n",
       "      <td>347,129</td>\n",
       "      <td>246,204</td>\n",
       "      <td>-35.6</td>\n",
       "      <td>170,811</td>\n",
       "      <td>Exxon Mobil</td>\n",
       "    </tr>\n",
       "    <tr>\n",
       "      <th>2</th>\n",
       "      <td>290,479</td>\n",
       "      <td>604,304</td>\n",
       "      <td>233,715</td>\n",
       "      <td>27.9</td>\n",
       "      <td>119,355</td>\n",
       "      <td>Apple</td>\n",
       "    </tr>\n",
       "  </tbody>\n",
       "</table>\n",
       "</div>"
      ],
      "text/plain": [
       "  Assets $ Market value $ Revenues $ Revenues % Total Stockholder Equity $  \\\n",
       "0  199,581        215,356    482,130       -0.7                     80,546   \n",
       "1  336,758        347,129    246,204      -35.6                    170,811   \n",
       "2  290,479        604,304    233,715       27.9                    119,355   \n",
       "\n",
       "       company  \n",
       "0      Walmart  \n",
       "1  Exxon Mobil  \n",
       "2        Apple  "
      ]
     },
     "execution_count": 110,
     "metadata": {},
     "output_type": "execute_result"
    }
   ],
   "source": [
    "d9 = {'company' : pd.Series(ln, index=[nm]),\n",
    "      'Revenues $' : pd.Series(rev_dol, index=[nm]),\n",
    "      'Revenues %' : pd.Series(rev_per, index=[nm]),\n",
    "      'Assets $' : pd.Series(assets_dol, index=[nm]),\n",
    "      'Total Stockholder Equity $' : pd.Series(tse_dol, index=[nm]),\n",
    "      'Market value $' : pd.Series(mar_dol, index=[nm])}\n",
    "fort500 = pd.DataFrame(d9)    \n",
    "fort500.head(3)"
   ]
  },
  {
   "cell_type": "code",
   "execution_count": 111,
   "metadata": {
    "collapsed": false
   },
   "outputs": [
    {
     "data": {
      "text/html": [
       "<div>\n",
       "<table border=\"1\" class=\"dataframe\">\n",
       "  <thead>\n",
       "    <tr style=\"text-align: right;\">\n",
       "      <th></th>\n",
       "      <th>Assets $</th>\n",
       "      <th>Market value $</th>\n",
       "      <th>Revenues $</th>\n",
       "      <th>Revenues %</th>\n",
       "      <th>Total Stockholder Equity $</th>\n",
       "      <th>company</th>\n",
       "    </tr>\n",
       "  </thead>\n",
       "  <tbody>\n",
       "    <tr>\n",
       "      <th>0</th>\n",
       "      <td>199,581</td>\n",
       "      <td>215,356</td>\n",
       "      <td>482,130</td>\n",
       "      <td>-0.7</td>\n",
       "      <td>80,546</td>\n",
       "      <td>Walmart</td>\n",
       "    </tr>\n",
       "    <tr>\n",
       "      <th>1</th>\n",
       "      <td>336,758</td>\n",
       "      <td>347,129</td>\n",
       "      <td>246,204</td>\n",
       "      <td>-35.6</td>\n",
       "      <td>170,811</td>\n",
       "      <td>Exxon Mobil</td>\n",
       "    </tr>\n",
       "    <tr>\n",
       "      <th>2</th>\n",
       "      <td>290,479</td>\n",
       "      <td>604,304</td>\n",
       "      <td>233,715</td>\n",
       "      <td>27.9</td>\n",
       "      <td>119,355</td>\n",
       "      <td>Apple</td>\n",
       "    </tr>\n",
       "  </tbody>\n",
       "</table>\n",
       "</div>"
      ],
      "text/plain": [
       "  Assets $ Market value $ Revenues $ Revenues % Total Stockholder Equity $  \\\n",
       "0  199,581        215,356    482,130       -0.7                     80,546   \n",
       "1  336,758        347,129    246,204      -35.6                    170,811   \n",
       "2  290,479        604,304    233,715       27.9                    119,355   \n",
       "\n",
       "       company  \n",
       "0      Walmart  \n",
       "1  Exxon Mobil  \n",
       "2        Apple  "
      ]
     },
     "execution_count": 111,
     "metadata": {},
     "output_type": "execute_result"
    }
   ],
   "source": [
    "fort500.merge(html_val, left_on='company', right_on='company', how='outer')\n",
    "fort500.head(3)"
   ]
  },
  {
   "cell_type": "code",
   "execution_count": 112,
   "metadata": {
    "collapsed": false
   },
   "outputs": [
    {
     "data": {
      "text/html": [
       "<div>\n",
       "<table border=\"1\" class=\"dataframe\">\n",
       "  <thead>\n",
       "    <tr style=\"text-align: right;\">\n",
       "      <th></th>\n",
       "      <th>Assets $</th>\n",
       "      <th>Market value $</th>\n",
       "      <th>Revenues $</th>\n",
       "      <th>Revenues %</th>\n",
       "      <th>Total Stockholder Equity $</th>\n",
       "      <th>company</th>\n",
       "      <th>The_page_opened</th>\n",
       "      <th>non-document-error</th>\n",
       "      <th>number_of_errors</th>\n",
       "      <th>number_of_warning</th>\n",
       "      <th>...</th>\n",
       "      <th>.dib</th>\n",
       "      <th>.gif</th>\n",
       "      <th>.jpe</th>\n",
       "      <th>.jpeg</th>\n",
       "      <th>.jpg</th>\n",
       "      <th>.png</th>\n",
       "      <th>.tif</th>\n",
       "      <th>.tiff</th>\n",
       "      <th>total images</th>\n",
       "      <th>loading time</th>\n",
       "    </tr>\n",
       "  </thead>\n",
       "  <tbody>\n",
       "    <tr>\n",
       "      <th>0</th>\n",
       "      <td>199,581</td>\n",
       "      <td>215,356</td>\n",
       "      <td>482,130</td>\n",
       "      <td>-0.7</td>\n",
       "      <td>80,546</td>\n",
       "      <td>Walmart</td>\n",
       "      <td>True</td>\n",
       "      <td>0</td>\n",
       "      <td>879</td>\n",
       "      <td>2</td>\n",
       "      <td>...</td>\n",
       "      <td>0</td>\n",
       "      <td>55</td>\n",
       "      <td>153</td>\n",
       "      <td>153</td>\n",
       "      <td>63</td>\n",
       "      <td>46</td>\n",
       "      <td>10</td>\n",
       "      <td>0</td>\n",
       "      <td>480</td>\n",
       "      <td>0.449</td>\n",
       "    </tr>\n",
       "    <tr>\n",
       "      <th>1</th>\n",
       "      <td>336,758</td>\n",
       "      <td>347,129</td>\n",
       "      <td>246,204</td>\n",
       "      <td>-35.6</td>\n",
       "      <td>170,811</td>\n",
       "      <td>Exxon Mobil</td>\n",
       "      <td>True</td>\n",
       "      <td>0</td>\n",
       "      <td>55</td>\n",
       "      <td>29</td>\n",
       "      <td>...</td>\n",
       "      <td>0</td>\n",
       "      <td>1</td>\n",
       "      <td>0</td>\n",
       "      <td>0</td>\n",
       "      <td>16</td>\n",
       "      <td>2</td>\n",
       "      <td>4</td>\n",
       "      <td>0</td>\n",
       "      <td>23</td>\n",
       "      <td>5.376</td>\n",
       "    </tr>\n",
       "    <tr>\n",
       "      <th>2</th>\n",
       "      <td>290,479</td>\n",
       "      <td>604,304</td>\n",
       "      <td>233,715</td>\n",
       "      <td>27.9</td>\n",
       "      <td>119,355</td>\n",
       "      <td>Apple</td>\n",
       "      <td>True</td>\n",
       "      <td>0</td>\n",
       "      <td>14</td>\n",
       "      <td>6</td>\n",
       "      <td>...</td>\n",
       "      <td>0</td>\n",
       "      <td>9</td>\n",
       "      <td>0</td>\n",
       "      <td>0</td>\n",
       "      <td>0</td>\n",
       "      <td>2</td>\n",
       "      <td>0</td>\n",
       "      <td>0</td>\n",
       "      <td>11</td>\n",
       "      <td>0.021</td>\n",
       "    </tr>\n",
       "  </tbody>\n",
       "</table>\n",
       "<p>3 rows × 740 columns</p>\n",
       "</div>"
      ],
      "text/plain": [
       "  Assets $ Market value $ Revenues $ Revenues % Total Stockholder Equity $  \\\n",
       "0  199,581        215,356    482,130       -0.7                     80,546   \n",
       "1  336,758        347,129    246,204      -35.6                    170,811   \n",
       "2  290,479        604,304    233,715       27.9                    119,355   \n",
       "\n",
       "       company The_page_opened  non-document-error  number_of_errors  \\\n",
       "0      Walmart            True                   0               879   \n",
       "1  Exxon Mobil            True                   0                55   \n",
       "2        Apple            True                   0                14   \n",
       "\n",
       "   number_of_warning     ...      .dib .gif .jpe .jpeg .jpg .png .tif .tiff  \\\n",
       "0                  2     ...         0   55  153   153   63   46   10     0   \n",
       "1                 29     ...         0    1    0     0   16    2    4     0   \n",
       "2                  6     ...         0    9    0     0    0    2    0     0   \n",
       "\n",
       "  total images loading time  \n",
       "0          480        0.449  \n",
       "1           23        5.376  \n",
       "2           11        0.021  \n",
       "\n",
       "[3 rows x 740 columns]"
      ]
     },
     "execution_count": 112,
     "metadata": {},
     "output_type": "execute_result"
    }
   ],
   "source": [
    "result = pd.merge(fort500, html_val, how='inner', on=['company', 'company'])\n",
    "result2 = pd.merge(social_media, fre, how='inner', on=['company', 'company'])\n",
    "result3 = pd.merge(wordss, sizess, how='inner', on=['company', 'company'])\n",
    "result4 = pd.merge(images_types, loading_time, how='inner', on=['company', 'company'])\n",
    "result5 = pd.merge(result, sites_links, how='inner', on=['company', 'company'])\n",
    "result6 = pd.merge(result5, result2, how='inner', on=['company', 'company'])\n",
    "result7 = pd.merge(result6, result3, how='inner', on=['company', 'company'])\n",
    "final3 = pd.merge(result7, result4, how='inner', on=['company', 'company'])\n",
    "final3.head(3)"
   ]
  },
  {
   "cell_type": "code",
   "execution_count": 113,
   "metadata": {
    "collapsed": true
   },
   "outputs": [],
   "source": [
    "final3.to_csv('total_500.csv', sep=';')"
   ]
  },
  {
   "cell_type": "code",
   "execution_count": 114,
   "metadata": {
    "collapsed": false
   },
   "outputs": [],
   "source": [
    "data500 = pd.read_csv(\"total_500.csv\", sep=';') "
   ]
  },
  {
   "cell_type": "code",
   "execution_count": 115,
   "metadata": {
    "collapsed": false
   },
   "outputs": [
    {
     "data": {
      "text/html": [
       "<div>\n",
       "<table border=\"1\" class=\"dataframe\">\n",
       "  <thead>\n",
       "    <tr style=\"text-align: right;\">\n",
       "      <th></th>\n",
       "      <th>Unnamed: 0</th>\n",
       "      <th>Assets $</th>\n",
       "      <th>Market value $</th>\n",
       "      <th>Revenues $</th>\n",
       "      <th>Revenues %</th>\n",
       "      <th>Total Stockholder Equity $</th>\n",
       "      <th>company</th>\n",
       "      <th>The_page_opened</th>\n",
       "      <th>non-document-error</th>\n",
       "      <th>number_of_errors</th>\n",
       "      <th>...</th>\n",
       "      <th>.dib</th>\n",
       "      <th>.gif</th>\n",
       "      <th>.jpe</th>\n",
       "      <th>.jpeg</th>\n",
       "      <th>.jpg</th>\n",
       "      <th>.png</th>\n",
       "      <th>.tif</th>\n",
       "      <th>.tiff</th>\n",
       "      <th>total images</th>\n",
       "      <th>loading time</th>\n",
       "    </tr>\n",
       "  </thead>\n",
       "  <tbody>\n",
       "    <tr>\n",
       "      <th>0</th>\n",
       "      <td>0</td>\n",
       "      <td>199,581</td>\n",
       "      <td>215,356</td>\n",
       "      <td>482,130</td>\n",
       "      <td>-0.7</td>\n",
       "      <td>80,546</td>\n",
       "      <td>Walmart</td>\n",
       "      <td>True</td>\n",
       "      <td>0</td>\n",
       "      <td>879</td>\n",
       "      <td>...</td>\n",
       "      <td>0</td>\n",
       "      <td>55</td>\n",
       "      <td>153</td>\n",
       "      <td>153</td>\n",
       "      <td>63</td>\n",
       "      <td>46</td>\n",
       "      <td>10</td>\n",
       "      <td>0</td>\n",
       "      <td>480</td>\n",
       "      <td>0.449</td>\n",
       "    </tr>\n",
       "    <tr>\n",
       "      <th>1</th>\n",
       "      <td>1</td>\n",
       "      <td>336,758</td>\n",
       "      <td>347,129</td>\n",
       "      <td>246,204</td>\n",
       "      <td>-35.6</td>\n",
       "      <td>170,811</td>\n",
       "      <td>Exxon Mobil</td>\n",
       "      <td>True</td>\n",
       "      <td>0</td>\n",
       "      <td>55</td>\n",
       "      <td>...</td>\n",
       "      <td>0</td>\n",
       "      <td>1</td>\n",
       "      <td>0</td>\n",
       "      <td>0</td>\n",
       "      <td>16</td>\n",
       "      <td>2</td>\n",
       "      <td>4</td>\n",
       "      <td>0</td>\n",
       "      <td>23</td>\n",
       "      <td>5.376</td>\n",
       "    </tr>\n",
       "    <tr>\n",
       "      <th>2</th>\n",
       "      <td>2</td>\n",
       "      <td>290,479</td>\n",
       "      <td>604,304</td>\n",
       "      <td>233,715</td>\n",
       "      <td>27.9</td>\n",
       "      <td>119,355</td>\n",
       "      <td>Apple</td>\n",
       "      <td>True</td>\n",
       "      <td>0</td>\n",
       "      <td>14</td>\n",
       "      <td>...</td>\n",
       "      <td>0</td>\n",
       "      <td>9</td>\n",
       "      <td>0</td>\n",
       "      <td>0</td>\n",
       "      <td>0</td>\n",
       "      <td>2</td>\n",
       "      <td>0</td>\n",
       "      <td>0</td>\n",
       "      <td>11</td>\n",
       "      <td>0.021</td>\n",
       "    </tr>\n",
       "  </tbody>\n",
       "</table>\n",
       "<p>3 rows × 741 columns</p>\n",
       "</div>"
      ],
      "text/plain": [
       "   Unnamed: 0 Assets $ Market value $ Revenues $ Revenues %  \\\n",
       "0           0  199,581        215,356    482,130       -0.7   \n",
       "1           1  336,758        347,129    246,204      -35.6   \n",
       "2           2  290,479        604,304    233,715       27.9   \n",
       "\n",
       "  Total Stockholder Equity $      company The_page_opened  non-document-error  \\\n",
       "0                     80,546      Walmart            True                   0   \n",
       "1                    170,811  Exxon Mobil            True                   0   \n",
       "2                    119,355        Apple            True                   0   \n",
       "\n",
       "   number_of_errors     ...       .dib .gif .jpe .jpeg .jpg .png .tif .tiff  \\\n",
       "0               879     ...          0   55  153   153   63   46   10     0   \n",
       "1                55     ...          0    1    0     0   16    2    4     0   \n",
       "2                14     ...          0    9    0     0    0    2    0     0   \n",
       "\n",
       "  total images loading time  \n",
       "0          480        0.449  \n",
       "1           23        5.376  \n",
       "2           11        0.021  \n",
       "\n",
       "[3 rows x 741 columns]"
      ]
     },
     "execution_count": 115,
     "metadata": {},
     "output_type": "execute_result"
    }
   ],
   "source": [
    "data500.head(3)"
   ]
  },
  {
   "cell_type": "code",
   "execution_count": null,
   "metadata": {
    "collapsed": true
   },
   "outputs": [],
   "source": []
  }
 ],
 "metadata": {
  "anaconda-cloud": {},
  "celltoolbar": "Slideshow",
  "kernelspec": {
   "display_name": "Python [conda root]",
   "language": "python",
   "name": "conda-root-py"
  },
  "language_info": {
   "codemirror_mode": {
    "name": "ipython",
    "version": 2
   },
   "file_extension": ".py",
   "mimetype": "text/x-python",
   "name": "python",
   "nbconvert_exporter": "python",
   "pygments_lexer": "ipython2",
   "version": "2.7.12"
  }
 },
 "nbformat": 4,
 "nbformat_minor": 0
}
